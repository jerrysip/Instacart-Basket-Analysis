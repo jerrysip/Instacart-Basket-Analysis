{
 "cells": [
  {
   "cell_type": "code",
   "execution_count": 1,
   "id": "d36a42c3-79e1-42bb-858e-f2c0f06df6c6",
   "metadata": {},
   "outputs": [],
   "source": [
    "# import Libraries\n",
    "import pandas as pd\n",
    "import numpy as np\n",
    "import os\n",
    "import matplotlib.pyplot as plt\n",
    "import seaborn as sns\n",
    "import scipy"
   ]
  },
  {
   "cell_type": "code",
   "execution_count": 2,
   "id": "264f7694-d723-41c4-b793-d1c4e992a65e",
   "metadata": {},
   "outputs": [],
   "source": [
    "# Import data and turn project path into a string\n",
    "project_path = r'/Users/jerrysiphavong/Desktop/12-2024 Instacart Basket Analysis'"
   ]
  },
  {
   "cell_type": "code",
   "execution_count": 7,
   "id": "a9b1b184-59f7-4cc9-a6d6-33db6ed92c99",
   "metadata": {},
   "outputs": [],
   "source": [
    "# import dataframe\n",
    "df = pd.read_pickle(os.path.join(project_path, '02 Data', 'Prepared Data', 'orders_products_customers.pkl'))"
   ]
  },
  {
   "cell_type": "markdown",
   "id": "780a63d2-0580-4c29-9c36-c392b3a7c022",
   "metadata": {},
   "source": [
    "# Regional Segmentation"
   ]
  },
  {
   "cell_type": "code",
   "execution_count": 11,
   "id": "d6cfe29e-b5e5-489d-a064-688b41fef3c1",
   "metadata": {},
   "outputs": [],
   "source": [
    "# Create region for Northeast\n",
    "region_northeast = [\n",
    "    'Maine',\n",
    "    'New Hampshire',\n",
    "    'Vermont',\n",
    "    'Massachusetts',\n",
    "    'Rhode Island',\n",
    "    'Connecticut',\n",
    "    'New York',\n",
    "    'Pennsylvania',\n",
    "    'New Jersey'\n",
    "]"
   ]
  },
  {
   "cell_type": "code",
   "execution_count": 13,
   "id": "ec83d095-edc5-4790-ae08-3e709ab73c86",
   "metadata": {},
   "outputs": [],
   "source": [
    "# Create region for Midwest\n",
    "region_midwest = [\n",
    "    'Wisconsin',\n",
    "    'Michigan',\n",
    "    'Illinois',\n",
    "    'Indiana',\n",
    "    'Ohio',\n",
    "    'North Dakota',\n",
    "    'South Dakota',\n",
    "    'Nebraska',\n",
    "    'Kansas',\n",
    "    'Minnesota',\n",
    "    'Iowa',\n",
    "    'Missouri'\n",
    "]"
   ]
  },
  {
   "cell_type": "code",
   "execution_count": 15,
   "id": "b491118e-c36a-4a7a-b2b5-7994c3670478",
   "metadata": {},
   "outputs": [],
   "source": [
    "# Create region for South\n",
    "region_south = [\n",
    "    'Delaware',\n",
    "    'Maryland',\n",
    "    'District of Columbia',\n",
    "    'Virginia',\n",
    "    'West Virginia',\n",
    "    'North Carolina',\n",
    "    'South Carolina',\n",
    "    'Georgia',\n",
    "    'Florida',\n",
    "    'Kentucky',\n",
    "    'Tennessee',\n",
    "    'Mississippi',\n",
    "    'Alabama',\n",
    "    'Oklahoma',\n",
    "    'Texas',\n",
    "    'Arkansas',\n",
    "    'Louisiana'\n",
    "]"
   ]
  },
  {
   "cell_type": "code",
   "execution_count": 17,
   "id": "95226021-c99b-4273-a723-90bea922a4c4",
   "metadata": {},
   "outputs": [],
   "source": [
    "# Create region for West\n",
    "region_west = [\n",
    "    'Idaho',\n",
    "    'Montana',\n",
    "    'Wyoming',\n",
    "    'Nevada',\n",
    "    'Utah',\n",
    "    'Colorado',\n",
    "    'Arizona',\n",
    "    'New Mexico',\n",
    "    'Alaska',\n",
    "    'Washington',\n",
    "    'Oregon',\n",
    "    'California',\n",
    "    'Hawaii'\n",
    "]"
   ]
  },
  {
   "cell_type": "code",
   "execution_count": 20,
   "id": "33069749-c8aa-42b0-a1fa-122f573eafae",
   "metadata": {},
   "outputs": [],
   "source": [
    "# Create region column\n",
    "df.loc[df['State'].isin(region_northeast), 'region'] = 'Northeast'\n",
    "df.loc[df['State'].isin(region_midwest), 'region'] = 'Midwest'\n",
    "df.loc[df['State'].isin(region_south), 'region'] = 'South'\n",
    "df.loc[df['State'].isin(region_west), 'region'] = 'West'"
   ]
  },
  {
   "cell_type": "code",
   "execution_count": 25,
   "id": "0417ba91-a271-47b6-b560-a0d26726da97",
   "metadata": {},
   "outputs": [
    {
     "data": {
      "text/plain": [
       "region\n",
       "South        10801610\n",
       "West          8300445\n",
       "Midwest       7603810\n",
       "Northeast     5728347\n",
       "Name: count, dtype: int64"
      ]
     },
     "execution_count": 25,
     "metadata": {},
     "output_type": "execute_result"
    }
   ],
   "source": [
    "df['region'].value_counts(dropna = False)"
   ]
  },
  {
   "cell_type": "markdown",
   "id": "c4cb2581-b1fa-4dbf-b786-191fb8e5501e",
   "metadata": {},
   "source": [
    "# Spending habits by region"
   ]
  },
  {
   "cell_type": "code",
   "execution_count": 30,
   "id": "060018cc-7c39-4f77-a875-e62eb6ac5fa9",
   "metadata": {},
   "outputs": [],
   "source": [
    "region_ct = pd.crosstab(df['region'], df['spending_flag'], dropna = False)\n",
    "region_ct['High spender % of total'] = region_ct['High spender'] / (region_ct['High spender'] + region_ct['Low spender'])"
   ]
  },
  {
   "cell_type": "code",
   "execution_count": 32,
   "id": "db84e8d7-fb46-449a-9c85-14de699652f3",
   "metadata": {},
   "outputs": [
    {
     "data": {
      "text/html": [
       "<div>\n",
       "<style scoped>\n",
       "    .dataframe tbody tr th:only-of-type {\n",
       "        vertical-align: middle;\n",
       "    }\n",
       "\n",
       "    .dataframe tbody tr th {\n",
       "        vertical-align: top;\n",
       "    }\n",
       "\n",
       "    .dataframe thead th {\n",
       "        text-align: right;\n",
       "    }\n",
       "</style>\n",
       "<table border=\"1\" class=\"dataframe\">\n",
       "  <thead>\n",
       "    <tr style=\"text-align: right;\">\n",
       "      <th>spending_flag</th>\n",
       "      <th>High spender</th>\n",
       "      <th>Low spender</th>\n",
       "      <th>High spender % of total</th>\n",
       "    </tr>\n",
       "    <tr>\n",
       "      <th>region</th>\n",
       "      <th></th>\n",
       "      <th></th>\n",
       "      <th></th>\n",
       "    </tr>\n",
       "  </thead>\n",
       "  <tbody>\n",
       "    <tr>\n",
       "      <th>Midwest</th>\n",
       "      <td>156129</td>\n",
       "      <td>7447681</td>\n",
       "      <td>0.020533</td>\n",
       "    </tr>\n",
       "    <tr>\n",
       "      <th>Northeast</th>\n",
       "      <td>108343</td>\n",
       "      <td>5620004</td>\n",
       "      <td>0.018913</td>\n",
       "    </tr>\n",
       "    <tr>\n",
       "      <th>South</th>\n",
       "      <td>210182</td>\n",
       "      <td>10591428</td>\n",
       "      <td>0.019458</td>\n",
       "    </tr>\n",
       "    <tr>\n",
       "      <th>West</th>\n",
       "      <td>160807</td>\n",
       "      <td>8139638</td>\n",
       "      <td>0.019373</td>\n",
       "    </tr>\n",
       "  </tbody>\n",
       "</table>\n",
       "</div>"
      ],
      "text/plain": [
       "spending_flag  High spender  Low spender  High spender % of total\n",
       "region                                                           \n",
       "Midwest              156129      7447681                 0.020533\n",
       "Northeast            108343      5620004                 0.018913\n",
       "South                210182     10591428                 0.019458\n",
       "West                 160807      8139638                 0.019373"
      ]
     },
     "execution_count": 32,
     "metadata": {},
     "output_type": "execute_result"
    }
   ],
   "source": [
    "region_ct"
   ]
  },
  {
   "cell_type": "code",
   "execution_count": 34,
   "id": "240c26a3-d4ce-474c-9fd5-a7b6a4868852",
   "metadata": {},
   "outputs": [],
   "source": [
    "# The South region is the only region that eceeds $200k in high spenders\n",
    "# The South region is the only region that exceen $10 Million in low spending\n",
    "# The South region has the most high and low spenders\n",
    "# The Northeast region has the lowest in high and low spender"
   ]
  },
  {
   "cell_type": "markdown",
   "id": "6cd5a97d-98fe-4798-9848-7dd457b3676b",
   "metadata": {},
   "source": [
    "# Create an exclusion flag for low-activity customers (customers with less than 5 orders) and exclude them from the data"
   ]
  },
  {
   "cell_type": "code",
   "execution_count": 39,
   "id": "39359d7b-a7a8-4071-aed1-16ed406e5fd3",
   "metadata": {},
   "outputs": [],
   "source": [
    "# Create a flag for customers with less than 5 orders\n",
    "df.loc[df['max_order'] < 5, 'activity_flag'] = 'low-activity customer'\n",
    "df.loc[df['max_order'] >= 5, 'activity_flag'] = 'high-activity customer'"
   ]
  },
  {
   "cell_type": "code",
   "execution_count": 41,
   "id": "dfa67901-021c-4157-a195-be53465f4ee3",
   "metadata": {},
   "outputs": [
    {
     "data": {
      "text/plain": [
       "activity_flag\n",
       "high-activity customer    30992664\n",
       "low-activity customer      1441548\n",
       "Name: count, dtype: int64"
      ]
     },
     "execution_count": 41,
     "metadata": {},
     "output_type": "execute_result"
    }
   ],
   "source": [
    "# Use value_counts\n",
    "df['activity_flag'].value_counts(dropna = False)"
   ]
  },
  {
   "cell_type": "code",
   "execution_count": 43,
   "id": "d2796f7b-ea95-4fa0-9a57-c71148aca878",
   "metadata": {},
   "outputs": [],
   "source": [
    "df['activity_flag'] = df['activity_flag'].astype('str')"
   ]
  },
  {
   "cell_type": "code",
   "execution_count": 45,
   "id": "7bdde53e-f1d1-4cb3-b0b0-a48f90e89246",
   "metadata": {},
   "outputs": [],
   "source": [
    "# Exclude low-activity customers from the dataframe\n",
    "df_excluded = df[df['activity_flag'] != 'low-activity customer']"
   ]
  },
  {
   "cell_type": "code",
   "execution_count": 47,
   "id": "013566c6-746d-4424-91c0-0ebb70067e46",
   "metadata": {},
   "outputs": [],
   "source": [
    "# Export the new dataframe\n",
    "df_excluded.to_pickle(os.path.join(project_path, '02 Data','Prepared Data', 'low_activity_excluded.pkl'))"
   ]
  },
  {
   "cell_type": "markdown",
   "id": "03819b54-c860-44c2-bf0a-c25ed312e648",
   "metadata": {},
   "source": [
    "# Create a profiling variable based on age, income, certain goods in \"department_id\" column and number of dependants. You might also use the \"orders_day_of_week\" and \"order_hour_of_day\" columns if you think of a way they would impact cutomer profiles "
   ]
  },
  {
   "cell_type": "code",
   "execution_count": 52,
   "id": "12abe4b9-e396-4642-b22c-a0c031cc6d89",
   "metadata": {},
   "outputs": [],
   "source": [
    "# create column age_group based on following categories:\n",
    "# young adult: age < 26\n",
    "# adult: 26 <= age < 65\n",
    "# senior: age >= 65"
   ]
  },
  {
   "cell_type": "code",
   "execution_count": 56,
   "id": "3b053ca5-a2ae-4e68-9503-e3f806526092",
   "metadata": {},
   "outputs": [
    {
     "name": "stderr",
     "output_type": "stream",
     "text": [
      "/var/folders/7y/hwfhmtc156v42mtpc98vtk7c0000gn/T/ipykernel_1652/1271581661.py:1: SettingWithCopyWarning: \n",
      "A value is trying to be set on a copy of a slice from a DataFrame.\n",
      "Try using .loc[row_indexer,col_indexer] = value instead\n",
      "\n",
      "See the caveats in the documentation: https://pandas.pydata.org/pandas-docs/stable/user_guide/indexing.html#returning-a-view-versus-a-copy\n",
      "  df_excluded.loc[df['Age'] < 26, 'age_group'] = 'Young Adult'\n"
     ]
    }
   ],
   "source": [
    "df_excluded.loc[df['Age'] < 26, 'age_group'] = 'Young Adult'\n",
    "df_excluded.loc[ (df['Age'] >= 26) & (df['Age'] < 65), 'age_group'] = 'Adult'\n",
    "df_excluded.loc[df['Age'] >= 65, 'age_group'] = 'Senior'"
   ]
  },
  {
   "cell_type": "code",
   "execution_count": 60,
   "id": "f9bf1b53-aa9c-4c09-a9e4-1c182aa4dfca",
   "metadata": {},
   "outputs": [
    {
     "name": "stderr",
     "output_type": "stream",
     "text": [
      "/var/folders/7y/hwfhmtc156v42mtpc98vtk7c0000gn/T/ipykernel_1652/3924496561.py:5: SettingWithCopyWarning: \n",
      "A value is trying to be set on a copy of a slice from a DataFrame.\n",
      "Try using .loc[row_indexer,col_indexer] = value instead\n",
      "\n",
      "See the caveats in the documentation: https://pandas.pydata.org/pandas-docs/stable/user_guide/indexing.html#returning-a-view-versus-a-copy\n",
      "  df_excluded.loc[df['Income'] < 40000, 'income_group'] = 'Low'\n"
     ]
    }
   ],
   "source": [
    "# create column income_group based on following categories:\n",
    "# low: income < 50,000\n",
    "# middle: 50,000 <= income < 100,000\n",
    "# high: income >= 100,000\n",
    "df_excluded.loc[df['Income'] < 40000, 'income_group'] = 'Low'\n",
    "df_excluded.loc[ (df['Income'] >= 40000) & (df['Income'] < 100000), 'income_group'] = 'Middle'\n",
    "df_excluded.loc[df['Income'] >= 100000, 'income_group'] = 'High'"
   ]
  },
  {
   "cell_type": "code",
   "execution_count": 62,
   "id": "6944def4-453d-4d27-911d-2c9712ecfc93",
   "metadata": {},
   "outputs": [
    {
     "name": "stderr",
     "output_type": "stream",
     "text": [
      "/var/folders/7y/hwfhmtc156v42mtpc98vtk7c0000gn/T/ipykernel_1652/1540943366.py:4: SettingWithCopyWarning: \n",
      "A value is trying to be set on a copy of a slice from a DataFrame.\n",
      "Try using .loc[row_indexer,col_indexer] = value instead\n",
      "\n",
      "See the caveats in the documentation: https://pandas.pydata.org/pandas-docs/stable/user_guide/indexing.html#returning-a-view-versus-a-copy\n",
      "  df_excluded.loc[df['Number of Dependents'] == 0, 'dependant_group'] = 'No dependants'\n"
     ]
    }
   ],
   "source": [
    "# create column dependent_group based on following categories:\n",
    "# no dependents: n_dependents = 0\n",
    "# has dependents: n_dependents > 0\n",
    "df_excluded.loc[df['Number of Dependents'] == 0, 'dependant_group'] = 'No dependants'\n",
    "df_excluded.loc[df['Number of Dependents'] > 0, 'dependant_group'] = 'Has dependants'"
   ]
  },
  {
   "cell_type": "code",
   "execution_count": 64,
   "id": "f1cf36a8-46e6-4a8e-9397-a1ab5d0b287b",
   "metadata": {},
   "outputs": [
    {
     "data": {
      "text/html": [
       "<div>\n",
       "<style scoped>\n",
       "    .dataframe tbody tr th:only-of-type {\n",
       "        vertical-align: middle;\n",
       "    }\n",
       "\n",
       "    .dataframe tbody tr th {\n",
       "        vertical-align: top;\n",
       "    }\n",
       "\n",
       "    .dataframe thead th {\n",
       "        text-align: right;\n",
       "    }\n",
       "</style>\n",
       "<table border=\"1\" class=\"dataframe\">\n",
       "  <thead>\n",
       "    <tr style=\"text-align: right;\">\n",
       "      <th></th>\n",
       "      <th>Unnamed: 0</th>\n",
       "      <th>department</th>\n",
       "    </tr>\n",
       "  </thead>\n",
       "  <tbody>\n",
       "    <tr>\n",
       "      <th>0</th>\n",
       "      <td>1</td>\n",
       "      <td>frozen</td>\n",
       "    </tr>\n",
       "    <tr>\n",
       "      <th>1</th>\n",
       "      <td>2</td>\n",
       "      <td>other</td>\n",
       "    </tr>\n",
       "    <tr>\n",
       "      <th>2</th>\n",
       "      <td>3</td>\n",
       "      <td>bakery</td>\n",
       "    </tr>\n",
       "    <tr>\n",
       "      <th>3</th>\n",
       "      <td>4</td>\n",
       "      <td>produce</td>\n",
       "    </tr>\n",
       "    <tr>\n",
       "      <th>4</th>\n",
       "      <td>5</td>\n",
       "      <td>alcohol</td>\n",
       "    </tr>\n",
       "    <tr>\n",
       "      <th>5</th>\n",
       "      <td>6</td>\n",
       "      <td>international</td>\n",
       "    </tr>\n",
       "    <tr>\n",
       "      <th>6</th>\n",
       "      <td>7</td>\n",
       "      <td>beverages</td>\n",
       "    </tr>\n",
       "    <tr>\n",
       "      <th>7</th>\n",
       "      <td>8</td>\n",
       "      <td>pets</td>\n",
       "    </tr>\n",
       "    <tr>\n",
       "      <th>8</th>\n",
       "      <td>9</td>\n",
       "      <td>dry goods pasta</td>\n",
       "    </tr>\n",
       "    <tr>\n",
       "      <th>9</th>\n",
       "      <td>10</td>\n",
       "      <td>bulk</td>\n",
       "    </tr>\n",
       "    <tr>\n",
       "      <th>10</th>\n",
       "      <td>11</td>\n",
       "      <td>personal care</td>\n",
       "    </tr>\n",
       "    <tr>\n",
       "      <th>11</th>\n",
       "      <td>12</td>\n",
       "      <td>meat seafood</td>\n",
       "    </tr>\n",
       "    <tr>\n",
       "      <th>12</th>\n",
       "      <td>13</td>\n",
       "      <td>pantry</td>\n",
       "    </tr>\n",
       "    <tr>\n",
       "      <th>13</th>\n",
       "      <td>14</td>\n",
       "      <td>breakfast</td>\n",
       "    </tr>\n",
       "    <tr>\n",
       "      <th>14</th>\n",
       "      <td>15</td>\n",
       "      <td>canned goods</td>\n",
       "    </tr>\n",
       "    <tr>\n",
       "      <th>15</th>\n",
       "      <td>16</td>\n",
       "      <td>dairy eggs</td>\n",
       "    </tr>\n",
       "    <tr>\n",
       "      <th>16</th>\n",
       "      <td>17</td>\n",
       "      <td>household</td>\n",
       "    </tr>\n",
       "    <tr>\n",
       "      <th>17</th>\n",
       "      <td>18</td>\n",
       "      <td>babies</td>\n",
       "    </tr>\n",
       "    <tr>\n",
       "      <th>18</th>\n",
       "      <td>19</td>\n",
       "      <td>snacks</td>\n",
       "    </tr>\n",
       "    <tr>\n",
       "      <th>19</th>\n",
       "      <td>20</td>\n",
       "      <td>deli</td>\n",
       "    </tr>\n",
       "    <tr>\n",
       "      <th>20</th>\n",
       "      <td>21</td>\n",
       "      <td>missing</td>\n",
       "    </tr>\n",
       "  </tbody>\n",
       "</table>\n",
       "</div>"
      ],
      "text/plain": [
       "    Unnamed: 0       department\n",
       "0            1           frozen\n",
       "1            2            other\n",
       "2            3           bakery\n",
       "3            4          produce\n",
       "4            5          alcohol\n",
       "5            6    international\n",
       "6            7        beverages\n",
       "7            8             pets\n",
       "8            9  dry goods pasta\n",
       "9           10             bulk\n",
       "10          11    personal care\n",
       "11          12     meat seafood\n",
       "12          13           pantry\n",
       "13          14        breakfast\n",
       "14          15     canned goods\n",
       "15          16       dairy eggs\n",
       "16          17        household\n",
       "17          18           babies\n",
       "18          19           snacks\n",
       "19          20             deli\n",
       "20          21          missing"
      ]
     },
     "execution_count": 64,
     "metadata": {},
     "output_type": "execute_result"
    }
   ],
   "source": [
    "# Department group - Pet Owners\n",
    "# read department file\n",
    "df_dep = pd.read_csv(os.path.join(project_path, '02 Data', 'Prepared Data', 'departments_wrangled.csv'))\n",
    "df_dep"
   ]
  },
  {
   "cell_type": "code",
   "execution_count": 68,
   "id": "1f4358a0-2f35-4e18-a303-f994782ebaad",
   "metadata": {},
   "outputs": [],
   "source": [
    "# create subset of users that ordered from pet department\n",
    "df_pet_users = df_excluded[df_excluded['department_id'] == 8]['user_id'].unique()"
   ]
  },
  {
   "cell_type": "code",
   "execution_count": 70,
   "id": "16145a1c-0179-4c13-bd01-b6055284f119",
   "metadata": {},
   "outputs": [
    {
     "name": "stderr",
     "output_type": "stream",
     "text": [
      "/var/folders/7y/hwfhmtc156v42mtpc98vtk7c0000gn/T/ipykernel_1652/1210204965.py:2: SettingWithCopyWarning: \n",
      "A value is trying to be set on a copy of a slice from a DataFrame.\n",
      "Try using .loc[row_indexer,col_indexer] = value instead\n",
      "\n",
      "See the caveats in the documentation: https://pandas.pydata.org/pandas-docs/stable/user_guide/indexing.html#returning-a-view-versus-a-copy\n",
      "  df_excluded.loc[ df_excluded['user_id'].isin(df_pet_users), 'pet_owner'] = 'Y'\n"
     ]
    }
   ],
   "source": [
    "# label user_ids who have purchased from pet department\n",
    "df_excluded.loc[ df_excluded['user_id'].isin(df_pet_users), 'pet_owner'] = 'Y'"
   ]
  },
  {
   "cell_type": "code",
   "execution_count": 72,
   "id": "9b082bc0-bd2a-47d9-9e9d-b6df21f556f1",
   "metadata": {},
   "outputs": [],
   "source": [
    "df_excluded.loc[ ~df_excluded['user_id'].isin(df_pet_users), 'pet_owner'] = 'N'"
   ]
  },
  {
   "cell_type": "code",
   "execution_count": 76,
   "id": "ce687cb0-157d-4112-93b3-8aa4152d897f",
   "metadata": {},
   "outputs": [
    {
     "name": "stderr",
     "output_type": "stream",
     "text": [
      "/var/folders/7y/hwfhmtc156v42mtpc98vtk7c0000gn/T/ipykernel_1652/943247677.py:5: SettingWithCopyWarning: \n",
      "A value is trying to be set on a copy of a slice from a DataFrame.\n",
      "Try using .loc[row_indexer,col_indexer] = value instead\n",
      "\n",
      "See the caveats in the documentation: https://pandas.pydata.org/pandas-docs/stable/user_guide/indexing.html#returning-a-view-versus-a-copy\n",
      "  df_excluded.loc[ ((df_excluded['age_group'] == 'Young Adult') | (df_excluded['age_group'] == 'Adult')) & (df_excluded['Family Status'] == 'single'), 'single_adult'] = 'Y'\n"
     ]
    }
   ],
   "source": [
    "# Single Adults\n",
    "# create column young_adult based on following categories:\n",
    "# Y: age_group == Young adult & fam_status == single\n",
    "# N: \n",
    "df_excluded.loc[ ((df_excluded['age_group'] == 'Young Adult') | (df_excluded['age_group'] == 'Adult')) & (df_excluded['Family Status'] == 'single'), 'single_adult'] = 'Y'"
   ]
  },
  {
   "cell_type": "code",
   "execution_count": 78,
   "id": "cab4bc67-4dd1-447f-921f-4369b46f4b71",
   "metadata": {},
   "outputs": [],
   "source": [
    "df_excluded.loc[ df_excluded['single_adult'].isnull(), 'single_adult'] = 'N'"
   ]
  },
  {
   "cell_type": "markdown",
   "id": "cee21f56-3498-4275-bef7-a4aa4ab7481d",
   "metadata": {},
   "source": [
    "# Create visualiation of distribution of profiles"
   ]
  },
  {
   "cell_type": "code",
   "execution_count": 81,
   "id": "af4cd670-978b-467e-89d0-cca77370b1e6",
   "metadata": {},
   "outputs": [],
   "source": [
    "# Age Groups\n",
    "# group by age group and count the number of unique users\n",
    "age_group_user_count = df_excluded.groupby('age_group')['user_id'].nunique().sort_values(ascending = True)"
   ]
  },
  {
   "cell_type": "code",
   "execution_count": 83,
   "id": "9d70f800-8bc0-4859-8cfd-3fdc804fc244",
   "metadata": {},
   "outputs": [
    {
     "data": {
      "image/png": "[encoded data removed]",
      "text/plain": [
       "<Figure size 640x480 with 1 Axes>"
      ]
     },
     "metadata": {},
     "output_type": "display_data"
    }
   ],
   "source": [
    "# plot visualization\n",
    "age_group_user_count_bar = age_group_user_count.plot(\n",
    "    kind = 'barh',\n",
    "    title = 'User Count by Age Group',\n",
    "    ylabel = ''\n",
    ")\n",
    "plt.savefig(os.path.join(project_path, '04 Analysis', 'Visualizations', '4.10_agegroup_usercount.png'))"
   ]
  },
  {
   "cell_type": "code",
   "execution_count": 85,
   "id": "84abc085-70b5-4e40-8fd8-ee8f672c1dce",
   "metadata": {},
   "outputs": [],
   "source": [
    "# Income Groups \n",
    "# group by income group and count the number of unique users\n",
    "income_group_user_count = df_excluded.groupby('income_group')['user_id'].nunique().sort_values(ascending = True)"
   ]
  },
  {
   "cell_type": "code",
   "execution_count": 87,
   "id": "7d473d8d-405d-4c9a-84b4-c51a988ca489",
   "metadata": {},
   "outputs": [
    {
     "data": {
      "image/png": "[encoded data removed]",
      "text/plain": [
       "<Figure size 640x480 with 1 Axes>"
      ]
     },
     "metadata": {},
     "output_type": "display_data"
    }
   ],
   "source": [
    "# plot visualization\n",
    "income_group_user_count_bar = income_group_user_count.plot(\n",
    "    kind = 'barh',\n",
    "    title = 'User Count by Income Group',\n",
    "    ylabel = ''\n",
    ")\n",
    "plt.savefig(os.path.join(project_path, '04 Analysis', 'Visualizations', '4.10_incomegroup_usercount.png'))"
   ]
  },
  {
   "cell_type": "code",
   "execution_count": 89,
   "id": "93f967c4-24b2-4c57-917b-bb3fa195be13",
   "metadata": {},
   "outputs": [],
   "source": [
    "# Dependency Groups\n",
    "# group by dependant_group and count the number of unique users\n",
    "dependant_group_user_count = df_excluded.groupby('dependant_group')['user_id'].nunique().sort_values(ascending = True)"
   ]
  },
  {
   "cell_type": "code",
   "execution_count": 91,
   "id": "e94b7f2d-3d0e-4642-b282-b5db9c6bb996",
   "metadata": {},
   "outputs": [
    {
     "data": {
      "image/png": "[encoded data removed]",
      "text/plain": [
       "<Figure size 640x480 with 1 Axes>"
      ]
     },
     "metadata": {},
     "output_type": "display_data"
    }
   ],
   "source": [
    "# plot visualization\n",
    "dependancy_group_user_count_bar = dependant_group_user_count.plot(\n",
    "    kind = 'pie',\n",
    "    title = 'Percent of User That Have Dependants',\n",
    "    ylabel = '',\n",
    "    autopct='%1.1f%%'\n",
    ")\n",
    "plt.savefig(os.path.join(project_path, '04 Analysis', 'Visualizations', '4.10_dependant_usercount.png'))"
   ]
  },
  {
   "cell_type": "code",
   "execution_count": 93,
   "id": "da50f17a-ed12-4e69-b479-c3262f072e39",
   "metadata": {},
   "outputs": [],
   "source": [
    "# Department Groups - Pet Owners\n",
    "# group by pet owners and count the number of unique users\n",
    "pet_owner_user_count = df_excluded.groupby('pet_owner')['user_id'].nunique().sort_values(ascending = True)"
   ]
  },
  {
   "cell_type": "code",
   "execution_count": 95,
   "id": "f7dc4cb9-b512-48df-a0d0-8bef96e4f05f",
   "metadata": {},
   "outputs": [
    {
     "data": {
      "image/png": "[encoded data removed]",
      "text/plain": [
       "<Figure size 640x480 with 1 Axes>"
      ]
     },
     "metadata": {},
     "output_type": "display_data"
    }
   ],
   "source": [
    "# plot visualization\n",
    "pet_owner_user_count_bar = pet_owner_user_count.plot(\n",
    "    kind = 'pie',\n",
    "    title = 'Percent of Users That Are Pet Owners',\n",
    "    ylabel = '',\n",
    "    autopct='%1.1f%%'\n",
    ")\n",
    "plt.savefig(os.path.join(project_path, '04 Analysis', 'Visualizations', '4.10_petowner_usercount.png'))"
   ]
  },
  {
   "cell_type": "code",
   "execution_count": 97,
   "id": "78c1b588-0ece-4b1b-9fe5-28296c11dbea",
   "metadata": {},
   "outputs": [],
   "source": [
    "# Single Adults\n",
    "# group by single and count the number of unique users\n",
    "single_user_count = df_excluded.groupby('single_adult')['user_id'].nunique().sort_values(ascending = True)\n"
   ]
  },
  {
   "cell_type": "code",
   "execution_count": 99,
   "id": "c97bb8ec-60bc-42f4-a8b0-d33c0ed5b928",
   "metadata": {},
   "outputs": [
    {
     "data": {
      "image/png": "[encoded data removed]",
      "text/plain": [
       "<Figure size 640x480 with 1 Axes>"
      ]
     },
     "metadata": {},
     "output_type": "display_data"
    }
   ],
   "source": [
    "# plot visualization\n",
    "single_user_count_bar = single_user_count.plot(\n",
    "    kind = 'pie',\n",
    "    title = 'Percent of Users That Are Single Adults',\n",
    "    ylabel = '',\n",
    "    autopct='%1.1f%%'\n",
    ")\n",
    "plt.savefig(os.path.join(project_path, '04 Analysis', 'Visualizations', '4.10_singleadult_usercount.png'))"
   ]
  },
  {
   "cell_type": "markdown",
   "id": "389f0669-d9c6-400e-b301-928798eab160",
   "metadata": {},
   "source": [
    "# Aggregate the max, mean, and min variables on a customer-profile level for usage frequency and expenditure"
   ]
  },
  {
   "cell_type": "code",
   "execution_count": 102,
   "id": "1bbee70e-2d0b-4033-ab27-9f8c98aa7d33",
   "metadata": {},
   "outputs": [],
   "source": [
    "# aggregate df to customer level\n",
    "df_3 = df_excluded.groupby(['user_id', 'max_order', 'age_group', 'income_group', 'dependant_group', 'pet_owner', 'single_adult', 'region']).agg(\n",
    "    total_spent=('prices', 'sum'),\n",
    "    order_frequency=('days_since_prior_order', 'mean')\n",
    ").reset_index()"
   ]
  },
  {
   "cell_type": "code",
   "execution_count": 104,
   "id": "5924a567-9a15-479a-9c93-85ba8c860b84",
   "metadata": {},
   "outputs": [
    {
     "data": {
      "text/html": [
       "<div>\n",
       "<style scoped>\n",
       "    .dataframe tbody tr th:only-of-type {\n",
       "        vertical-align: middle;\n",
       "    }\n",
       "\n",
       "    .dataframe tbody tr th {\n",
       "        vertical-align: top;\n",
       "    }\n",
       "\n",
       "    .dataframe thead th {\n",
       "        text-align: right;\n",
       "    }\n",
       "</style>\n",
       "<table border=\"1\" class=\"dataframe\">\n",
       "  <thead>\n",
       "    <tr style=\"text-align: right;\">\n",
       "      <th></th>\n",
       "      <th>user_id</th>\n",
       "      <th>max_order</th>\n",
       "      <th>age_group</th>\n",
       "      <th>income_group</th>\n",
       "      <th>dependant_group</th>\n",
       "      <th>pet_owner</th>\n",
       "      <th>single_adult</th>\n",
       "      <th>region</th>\n",
       "      <th>total_spent</th>\n",
       "      <th>order_frequency</th>\n",
       "    </tr>\n",
       "  </thead>\n",
       "  <tbody>\n",
       "    <tr>\n",
       "      <th>0</th>\n",
       "      <td>1</td>\n",
       "      <td>10</td>\n",
       "      <td>Adult</td>\n",
       "      <td>Middle</td>\n",
       "      <td>Has dependants</td>\n",
       "      <td>N</td>\n",
       "      <td>N</td>\n",
       "      <td>South</td>\n",
       "      <td>375.7</td>\n",
       "      <td>20.259259</td>\n",
       "    </tr>\n",
       "    <tr>\n",
       "      <th>1</th>\n",
       "      <td>10</td>\n",
       "      <td>5</td>\n",
       "      <td>Adult</td>\n",
       "      <td>Middle</td>\n",
       "      <td>Has dependants</td>\n",
       "      <td>N</td>\n",
       "      <td>N</td>\n",
       "      <td>South</td>\n",
       "      <td>1237.1</td>\n",
       "      <td>20.746377</td>\n",
       "    </tr>\n",
       "    <tr>\n",
       "      <th>2</th>\n",
       "      <td>100</td>\n",
       "      <td>5</td>\n",
       "      <td>Adult</td>\n",
       "      <td>High</td>\n",
       "      <td>Has dependants</td>\n",
       "      <td>N</td>\n",
       "      <td>N</td>\n",
       "      <td>South</td>\n",
       "      <td>266.2</td>\n",
       "      <td>26.320000</td>\n",
       "    </tr>\n",
       "    <tr>\n",
       "      <th>3</th>\n",
       "      <td>1000</td>\n",
       "      <td>7</td>\n",
       "      <td>Young Adult</td>\n",
       "      <td>Middle</td>\n",
       "      <td>Has dependants</td>\n",
       "      <td>N</td>\n",
       "      <td>N</td>\n",
       "      <td>South</td>\n",
       "      <td>866.0</td>\n",
       "      <td>11.647727</td>\n",
       "    </tr>\n",
       "    <tr>\n",
       "      <th>4</th>\n",
       "      <td>10000</td>\n",
       "      <td>72</td>\n",
       "      <td>Adult</td>\n",
       "      <td>Middle</td>\n",
       "      <td>No dependants</td>\n",
       "      <td>N</td>\n",
       "      <td>Y</td>\n",
       "      <td>South</td>\n",
       "      <td>8785.6</td>\n",
       "      <td>4.949580</td>\n",
       "    </tr>\n",
       "  </tbody>\n",
       "</table>\n",
       "</div>"
      ],
      "text/plain": [
       "  user_id  max_order    age_group income_group dependant_group pet_owner  \\\n",
       "0       1         10        Adult       Middle  Has dependants         N   \n",
       "1      10          5        Adult       Middle  Has dependants         N   \n",
       "2     100          5        Adult         High  Has dependants         N   \n",
       "3    1000          7  Young Adult       Middle  Has dependants         N   \n",
       "4   10000         72        Adult       Middle   No dependants         N   \n",
       "\n",
       "  single_adult region  total_spent  order_frequency  \n",
       "0            N  South        375.7        20.259259  \n",
       "1            N  South       1237.1        20.746377  \n",
       "2            N  South        266.2        26.320000  \n",
       "3            N  South        866.0        11.647727  \n",
       "4            Y  South       8785.6         4.949580  "
      ]
     },
     "execution_count": 104,
     "metadata": {},
     "output_type": "execute_result"
    }
   ],
   "source": [
    "# check customer level\n",
    "df_3.head()"
   ]
  },
  {
   "cell_type": "code",
   "execution_count": 106,
   "id": "b7df059d-e9b6-498f-a333-2ecc5bc65732",
   "metadata": {},
   "outputs": [
    {
     "data": {
      "text/plain": [
       "(162633, 10)"
      ]
     },
     "execution_count": 106,
     "metadata": {},
     "output_type": "execute_result"
    }
   ],
   "source": [
    "df_3.shape"
   ]
  },
  {
   "cell_type": "code",
   "execution_count": 110,
   "id": "553dec43-adaf-4bb2-8d08-b2b0fff4dd22",
   "metadata": {},
   "outputs": [
    {
     "data": {
      "text/plain": [
       "162633"
      ]
     },
     "execution_count": 110,
     "metadata": {},
     "output_type": "execute_result"
    }
   ],
   "source": [
    "df_excluded['user_id'].nunique()"
   ]
  },
  {
   "cell_type": "code",
   "execution_count": 112,
   "id": "48b10e60-77f4-4311-91ac-f879c34c7583",
   "metadata": {},
   "outputs": [
    {
     "data": {
      "text/html": [
       "<div>\n",
       "<style scoped>\n",
       "    .dataframe tbody tr th:only-of-type {\n",
       "        vertical-align: middle;\n",
       "    }\n",
       "\n",
       "    .dataframe tbody tr th {\n",
       "        vertical-align: top;\n",
       "    }\n",
       "\n",
       "    .dataframe thead tr th {\n",
       "        text-align: left;\n",
       "    }\n",
       "\n",
       "    .dataframe thead tr:last-of-type th {\n",
       "        text-align: right;\n",
       "    }\n",
       "</style>\n",
       "<table border=\"1\" class=\"dataframe\">\n",
       "  <thead>\n",
       "    <tr>\n",
       "      <th></th>\n",
       "      <th colspan=\"3\" halign=\"left\">total_spent</th>\n",
       "      <th colspan=\"3\" halign=\"left\">order_frequency</th>\n",
       "    </tr>\n",
       "    <tr>\n",
       "      <th></th>\n",
       "      <th>mean</th>\n",
       "      <th>min</th>\n",
       "      <th>max</th>\n",
       "      <th>mean</th>\n",
       "      <th>min</th>\n",
       "      <th>max</th>\n",
       "    </tr>\n",
       "    <tr>\n",
       "      <th>age_group</th>\n",
       "      <th></th>\n",
       "      <th></th>\n",
       "      <th></th>\n",
       "      <th></th>\n",
       "      <th></th>\n",
       "      <th></th>\n",
       "    </tr>\n",
       "  </thead>\n",
       "  <tbody>\n",
       "    <tr>\n",
       "      <th>Adult</th>\n",
       "      <td>2280.518189</td>\n",
       "      <td>5.0</td>\n",
       "      <td>2104114.1</td>\n",
       "      <td>14.363148</td>\n",
       "      <td>0.000000</td>\n",
       "      <td>30.0</td>\n",
       "    </tr>\n",
       "    <tr>\n",
       "      <th>Senior</th>\n",
       "      <td>2230.188266</td>\n",
       "      <td>6.8</td>\n",
       "      <td>1409778.9</td>\n",
       "      <td>14.306047</td>\n",
       "      <td>0.000000</td>\n",
       "      <td>30.0</td>\n",
       "    </tr>\n",
       "    <tr>\n",
       "      <th>Young Adult</th>\n",
       "      <td>2338.483993</td>\n",
       "      <td>10.5</td>\n",
       "      <td>2101976.9</td>\n",
       "      <td>14.334007</td>\n",
       "      <td>0.583333</td>\n",
       "      <td>30.0</td>\n",
       "    </tr>\n",
       "  </tbody>\n",
       "</table>\n",
       "</div>"
      ],
      "text/plain": [
       "             total_spent                  order_frequency                \n",
       "                    mean   min        max            mean       min   max\n",
       "age_group                                                                \n",
       "Adult        2280.518189   5.0  2104114.1       14.363148  0.000000  30.0\n",
       "Senior       2230.188266   6.8  1409778.9       14.306047  0.000000  30.0\n",
       "Young Adult  2338.483993  10.5  2101976.9       14.334007  0.583333  30.0"
      ]
     },
     "execution_count": 112,
     "metadata": {},
     "output_type": "execute_result"
    }
   ],
   "source": [
    "# Age Group\n",
    "df_3.groupby('age_group').agg({'total_spent' : ['mean', 'min', 'max'],\n",
    "                              'order_frequency' : ['mean', 'min', 'max']})"
   ]
  },
  {
   "cell_type": "code",
   "execution_count": 114,
   "id": "8f47cce7-149a-416b-b59a-127a2bde9cb9",
   "metadata": {},
   "outputs": [
    {
     "data": {
      "text/html": [
       "<div>\n",
       "<style scoped>\n",
       "    .dataframe tbody tr th:only-of-type {\n",
       "        vertical-align: middle;\n",
       "    }\n",
       "\n",
       "    .dataframe tbody tr th {\n",
       "        vertical-align: top;\n",
       "    }\n",
       "\n",
       "    .dataframe thead tr th {\n",
       "        text-align: left;\n",
       "    }\n",
       "\n",
       "    .dataframe thead tr:last-of-type th {\n",
       "        text-align: right;\n",
       "    }\n",
       "</style>\n",
       "<table border=\"1\" class=\"dataframe\">\n",
       "  <thead>\n",
       "    <tr>\n",
       "      <th></th>\n",
       "      <th colspan=\"3\" halign=\"left\">total_spent</th>\n",
       "      <th colspan=\"3\" halign=\"left\">order_frequency</th>\n",
       "    </tr>\n",
       "    <tr>\n",
       "      <th></th>\n",
       "      <th>mean</th>\n",
       "      <th>min</th>\n",
       "      <th>max</th>\n",
       "      <th>mean</th>\n",
       "      <th>min</th>\n",
       "      <th>max</th>\n",
       "    </tr>\n",
       "    <tr>\n",
       "      <th>income_group</th>\n",
       "      <th></th>\n",
       "      <th></th>\n",
       "      <th></th>\n",
       "      <th></th>\n",
       "      <th></th>\n",
       "      <th></th>\n",
       "    </tr>\n",
       "  </thead>\n",
       "  <tbody>\n",
       "    <tr>\n",
       "      <th>High</th>\n",
       "      <td>3339.368216</td>\n",
       "      <td>35.3</td>\n",
       "      <td>2104114.1</td>\n",
       "      <td>14.175457</td>\n",
       "      <td>0.0</td>\n",
       "      <td>30.0</td>\n",
       "    </tr>\n",
       "    <tr>\n",
       "      <th>Low</th>\n",
       "      <td>831.938725</td>\n",
       "      <td>5.0</td>\n",
       "      <td>24319.3</td>\n",
       "      <td>15.233308</td>\n",
       "      <td>0.0</td>\n",
       "      <td>30.0</td>\n",
       "    </tr>\n",
       "    <tr>\n",
       "      <th>Middle</th>\n",
       "      <td>1568.286665</td>\n",
       "      <td>6.8</td>\n",
       "      <td>1102546.5</td>\n",
       "      <td>14.352012</td>\n",
       "      <td>0.0</td>\n",
       "      <td>30.0</td>\n",
       "    </tr>\n",
       "  </tbody>\n",
       "</table>\n",
       "</div>"
      ],
      "text/plain": [
       "              total_spent                  order_frequency           \n",
       "                     mean   min        max            mean  min   max\n",
       "income_group                                                         \n",
       "High          3339.368216  35.3  2104114.1       14.175457  0.0  30.0\n",
       "Low            831.938725   5.0    24319.3       15.233308  0.0  30.0\n",
       "Middle        1568.286665   6.8  1102546.5       14.352012  0.0  30.0"
      ]
     },
     "execution_count": 114,
     "metadata": {},
     "output_type": "execute_result"
    }
   ],
   "source": [
    "# Income Group\n",
    "df_3.groupby('income_group').agg({'total_spent' : ['mean', 'min', 'max'],\n",
    "                              'order_frequency' : ['mean', 'min', 'max']})"
   ]
  },
  {
   "cell_type": "code",
   "execution_count": 116,
   "id": "e8c4225c-1fc5-47d4-9ead-0bd3b26e60a1",
   "metadata": {},
   "outputs": [
    {
     "data": {
      "text/html": [
       "<div>\n",
       "<style scoped>\n",
       "    .dataframe tbody tr th:only-of-type {\n",
       "        vertical-align: middle;\n",
       "    }\n",
       "\n",
       "    .dataframe tbody tr th {\n",
       "        vertical-align: top;\n",
       "    }\n",
       "\n",
       "    .dataframe thead tr th {\n",
       "        text-align: left;\n",
       "    }\n",
       "\n",
       "    .dataframe thead tr:last-of-type th {\n",
       "        text-align: right;\n",
       "    }\n",
       "</style>\n",
       "<table border=\"1\" class=\"dataframe\">\n",
       "  <thead>\n",
       "    <tr>\n",
       "      <th></th>\n",
       "      <th colspan=\"3\" halign=\"left\">total_spent</th>\n",
       "      <th colspan=\"3\" halign=\"left\">order_frequency</th>\n",
       "    </tr>\n",
       "    <tr>\n",
       "      <th></th>\n",
       "      <th>mean</th>\n",
       "      <th>min</th>\n",
       "      <th>max</th>\n",
       "      <th>mean</th>\n",
       "      <th>min</th>\n",
       "      <th>max</th>\n",
       "    </tr>\n",
       "    <tr>\n",
       "      <th>dependant_group</th>\n",
       "      <th></th>\n",
       "      <th></th>\n",
       "      <th></th>\n",
       "      <th></th>\n",
       "      <th></th>\n",
       "      <th></th>\n",
       "    </tr>\n",
       "  </thead>\n",
       "  <tbody>\n",
       "    <tr>\n",
       "      <th>Has dependants</th>\n",
       "      <td>2265.004682</td>\n",
       "      <td>6.8</td>\n",
       "      <td>2104114.1</td>\n",
       "      <td>14.338791</td>\n",
       "      <td>0.0</td>\n",
       "      <td>30.0</td>\n",
       "    </tr>\n",
       "    <tr>\n",
       "      <th>No dependants</th>\n",
       "      <td>2302.251154</td>\n",
       "      <td>5.0</td>\n",
       "      <td>2101976.9</td>\n",
       "      <td>14.360963</td>\n",
       "      <td>0.0</td>\n",
       "      <td>30.0</td>\n",
       "    </tr>\n",
       "  </tbody>\n",
       "</table>\n",
       "</div>"
      ],
      "text/plain": [
       "                 total_spent                 order_frequency           \n",
       "                        mean  min        max            mean  min   max\n",
       "dependant_group                                                        \n",
       "Has dependants   2265.004682  6.8  2104114.1       14.338791  0.0  30.0\n",
       "No dependants    2302.251154  5.0  2101976.9       14.360963  0.0  30.0"
      ]
     },
     "execution_count": 116,
     "metadata": {},
     "output_type": "execute_result"
    }
   ],
   "source": [
    "# Dependency Group\n",
    "df_3.groupby('dependant_group').agg({'total_spent' : ['mean', 'min', 'max'],\n",
    "                              'order_frequency' : ['mean', 'min', 'max']})"
   ]
  },
  {
   "cell_type": "code",
   "execution_count": 118,
   "id": "b61eca63-8e99-4001-b856-dd9ac9ba643a",
   "metadata": {},
   "outputs": [
    {
     "data": {
      "text/html": [
       "<div>\n",
       "<style scoped>\n",
       "    .dataframe tbody tr th:only-of-type {\n",
       "        vertical-align: middle;\n",
       "    }\n",
       "\n",
       "    .dataframe tbody tr th {\n",
       "        vertical-align: top;\n",
       "    }\n",
       "\n",
       "    .dataframe thead tr th {\n",
       "        text-align: left;\n",
       "    }\n",
       "\n",
       "    .dataframe thead tr:last-of-type th {\n",
       "        text-align: right;\n",
       "    }\n",
       "</style>\n",
       "<table border=\"1\" class=\"dataframe\">\n",
       "  <thead>\n",
       "    <tr>\n",
       "      <th></th>\n",
       "      <th colspan=\"3\" halign=\"left\">total_spent</th>\n",
       "      <th colspan=\"3\" halign=\"left\">order_frequency</th>\n",
       "    </tr>\n",
       "    <tr>\n",
       "      <th></th>\n",
       "      <th>mean</th>\n",
       "      <th>min</th>\n",
       "      <th>max</th>\n",
       "      <th>mean</th>\n",
       "      <th>min</th>\n",
       "      <th>max</th>\n",
       "    </tr>\n",
       "    <tr>\n",
       "      <th>pet_owner</th>\n",
       "      <th></th>\n",
       "      <th></th>\n",
       "      <th></th>\n",
       "      <th></th>\n",
       "      <th></th>\n",
       "      <th></th>\n",
       "    </tr>\n",
       "  </thead>\n",
       "  <tbody>\n",
       "    <tr>\n",
       "      <th>N</th>\n",
       "      <td>2144.208091</td>\n",
       "      <td>5.0</td>\n",
       "      <td>2104114.1</td>\n",
       "      <td>14.439436</td>\n",
       "      <td>0.000000</td>\n",
       "      <td>30.0</td>\n",
       "    </tr>\n",
       "    <tr>\n",
       "      <th>Y</th>\n",
       "      <td>3750.468918</td>\n",
       "      <td>24.9</td>\n",
       "      <td>1206437.5</td>\n",
       "      <td>13.265605</td>\n",
       "      <td>0.717842</td>\n",
       "      <td>30.0</td>\n",
       "    </tr>\n",
       "  </tbody>\n",
       "</table>\n",
       "</div>"
      ],
      "text/plain": [
       "           total_spent                  order_frequency                \n",
       "                  mean   min        max            mean       min   max\n",
       "pet_owner                                                              \n",
       "N          2144.208091   5.0  2104114.1       14.439436  0.000000  30.0\n",
       "Y          3750.468918  24.9  1206437.5       13.265605  0.717842  30.0"
      ]
     },
     "execution_count": 118,
     "metadata": {},
     "output_type": "execute_result"
    }
   ],
   "source": [
    "# Department Group - Pet Owners\n",
    "df_3.groupby('pet_owner').agg({'total_spent' : ['mean', 'min', 'max'],\n",
    "                              'order_frequency' : ['mean', 'min', 'max']})"
   ]
  },
  {
   "cell_type": "code",
   "execution_count": 120,
   "id": "390408be-d9c8-4efc-982d-7d1d659f490d",
   "metadata": {},
   "outputs": [
    {
     "data": {
      "text/html": [
       "<div>\n",
       "<style scoped>\n",
       "    .dataframe tbody tr th:only-of-type {\n",
       "        vertical-align: middle;\n",
       "    }\n",
       "\n",
       "    .dataframe tbody tr th {\n",
       "        vertical-align: top;\n",
       "    }\n",
       "\n",
       "    .dataframe thead tr th {\n",
       "        text-align: left;\n",
       "    }\n",
       "\n",
       "    .dataframe thead tr:last-of-type th {\n",
       "        text-align: right;\n",
       "    }\n",
       "</style>\n",
       "<table border=\"1\" class=\"dataframe\">\n",
       "  <thead>\n",
       "    <tr>\n",
       "      <th></th>\n",
       "      <th colspan=\"3\" halign=\"left\">total_spent</th>\n",
       "      <th colspan=\"3\" halign=\"left\">order_frequency</th>\n",
       "    </tr>\n",
       "    <tr>\n",
       "      <th></th>\n",
       "      <th>mean</th>\n",
       "      <th>min</th>\n",
       "      <th>max</th>\n",
       "      <th>mean</th>\n",
       "      <th>min</th>\n",
       "      <th>max</th>\n",
       "    </tr>\n",
       "    <tr>\n",
       "      <th>single_adult</th>\n",
       "      <th></th>\n",
       "      <th></th>\n",
       "      <th></th>\n",
       "      <th></th>\n",
       "      <th></th>\n",
       "      <th></th>\n",
       "    </tr>\n",
       "  </thead>\n",
       "  <tbody>\n",
       "    <tr>\n",
       "      <th>N</th>\n",
       "      <td>2259.186817</td>\n",
       "      <td>6.8</td>\n",
       "      <td>2104114.1</td>\n",
       "      <td>14.332770</td>\n",
       "      <td>0.0</td>\n",
       "      <td>30.0</td>\n",
       "    </tr>\n",
       "    <tr>\n",
       "      <th>Y</th>\n",
       "      <td>2350.767393</td>\n",
       "      <td>5.0</td>\n",
       "      <td>2101976.9</td>\n",
       "      <td>14.402751</td>\n",
       "      <td>0.0</td>\n",
       "      <td>30.0</td>\n",
       "    </tr>\n",
       "  </tbody>\n",
       "</table>\n",
       "</div>"
      ],
      "text/plain": [
       "              total_spent                 order_frequency           \n",
       "                     mean  min        max            mean  min   max\n",
       "single_adult                                                        \n",
       "N             2259.186817  6.8  2104114.1       14.332770  0.0  30.0\n",
       "Y             2350.767393  5.0  2101976.9       14.402751  0.0  30.0"
      ]
     },
     "execution_count": 120,
     "metadata": {},
     "output_type": "execute_result"
    }
   ],
   "source": [
    "# Single Adults\n",
    "df_3.groupby('single_adult').agg({'total_spent' : ['mean', 'min', 'max'],\n",
    "                              'order_frequency' : ['mean', 'min', 'max']})"
   ]
  },
  {
   "cell_type": "markdown",
   "id": "4e545069-c761-4667-ad0c-8a53d9b898d3",
   "metadata": {},
   "source": [
    "# Compare your customer profiles with regions and departments"
   ]
  },
  {
   "cell_type": "code",
   "execution_count": 123,
   "id": "a6bf514e-9c6d-4676-a023-49ba291c3b01",
   "metadata": {},
   "outputs": [],
   "source": [
    "# Regional Comparison"
   ]
  },
  {
   "cell_type": "code",
   "execution_count": 125,
   "id": "4441fb65-3490-4650-9e9c-7fe79686a4ab",
   "metadata": {},
   "outputs": [],
   "source": [
    "# Age Group\n",
    "# group by region and age\n",
    "age_region = df_3.groupby(['age_group', 'region'])['user_id'].nunique().reset_index(name='user_count')"
   ]
  },
  {
   "cell_type": "code",
   "execution_count": 127,
   "id": "89d598d2-89bb-4ef8-b924-d5ba87158ae9",
   "metadata": {},
   "outputs": [
    {
     "data": {
      "text/html": [
       "<div>\n",
       "<style scoped>\n",
       "    .dataframe tbody tr th:only-of-type {\n",
       "        vertical-align: middle;\n",
       "    }\n",
       "\n",
       "    .dataframe tbody tr th {\n",
       "        vertical-align: top;\n",
       "    }\n",
       "\n",
       "    .dataframe thead th {\n",
       "        text-align: right;\n",
       "    }\n",
       "</style>\n",
       "<table border=\"1\" class=\"dataframe\">\n",
       "  <thead>\n",
       "    <tr style=\"text-align: right;\">\n",
       "      <th></th>\n",
       "      <th>age_group</th>\n",
       "      <th>region</th>\n",
       "      <th>user_count</th>\n",
       "    </tr>\n",
       "  </thead>\n",
       "  <tbody>\n",
       "    <tr>\n",
       "      <th>0</th>\n",
       "      <td>Adult</td>\n",
       "      <td>Midwest</td>\n",
       "      <td>23499</td>\n",
       "    </tr>\n",
       "    <tr>\n",
       "      <th>1</th>\n",
       "      <td>Adult</td>\n",
       "      <td>Northeast</td>\n",
       "      <td>17527</td>\n",
       "    </tr>\n",
       "    <tr>\n",
       "      <th>2</th>\n",
       "      <td>Adult</td>\n",
       "      <td>South</td>\n",
       "      <td>32911</td>\n",
       "    </tr>\n",
       "    <tr>\n",
       "      <th>3</th>\n",
       "      <td>Adult</td>\n",
       "      <td>West</td>\n",
       "      <td>25249</td>\n",
       "    </tr>\n",
       "    <tr>\n",
       "      <th>4</th>\n",
       "      <td>Senior</td>\n",
       "      <td>Midwest</td>\n",
       "      <td>10169</td>\n",
       "    </tr>\n",
       "    <tr>\n",
       "      <th>5</th>\n",
       "      <td>Senior</td>\n",
       "      <td>Northeast</td>\n",
       "      <td>7580</td>\n",
       "    </tr>\n",
       "    <tr>\n",
       "      <th>6</th>\n",
       "      <td>Senior</td>\n",
       "      <td>South</td>\n",
       "      <td>14433</td>\n",
       "    </tr>\n",
       "    <tr>\n",
       "      <th>7</th>\n",
       "      <td>Senior</td>\n",
       "      <td>West</td>\n",
       "      <td>11068</td>\n",
       "    </tr>\n",
       "    <tr>\n",
       "      <th>8</th>\n",
       "      <td>Young Adult</td>\n",
       "      <td>Midwest</td>\n",
       "      <td>4709</td>\n",
       "    </tr>\n",
       "    <tr>\n",
       "      <th>9</th>\n",
       "      <td>Young Adult</td>\n",
       "      <td>Northeast</td>\n",
       "      <td>3474</td>\n",
       "    </tr>\n",
       "    <tr>\n",
       "      <th>10</th>\n",
       "      <td>Young Adult</td>\n",
       "      <td>South</td>\n",
       "      <td>6850</td>\n",
       "    </tr>\n",
       "    <tr>\n",
       "      <th>11</th>\n",
       "      <td>Young Adult</td>\n",
       "      <td>West</td>\n",
       "      <td>5164</td>\n",
       "    </tr>\n",
       "  </tbody>\n",
       "</table>\n",
       "</div>"
      ],
      "text/plain": [
       "      age_group     region  user_count\n",
       "0         Adult    Midwest       23499\n",
       "1         Adult  Northeast       17527\n",
       "2         Adult      South       32911\n",
       "3         Adult       West       25249\n",
       "4        Senior    Midwest       10169\n",
       "5        Senior  Northeast        7580\n",
       "6        Senior      South       14433\n",
       "7        Senior       West       11068\n",
       "8   Young Adult    Midwest        4709\n",
       "9   Young Adult  Northeast        3474\n",
       "10  Young Adult      South        6850\n",
       "11  Young Adult       West        5164"
      ]
     },
     "execution_count": 127,
     "metadata": {},
     "output_type": "execute_result"
    }
   ],
   "source": [
    "age_region"
   ]
  },
  {
   "cell_type": "code",
   "execution_count": 129,
   "id": "fef7a0ec-b406-4ba8-8bec-d1b26f83aed6",
   "metadata": {},
   "outputs": [],
   "source": [
    "# pivot to visualize\n",
    "age_region_pivot = age_region.pivot(index='age_group', columns='region', values='user_count')"
   ]
  },
  {
   "cell_type": "code",
   "execution_count": 131,
   "id": "fa19f6f7-c694-4311-a835-753d66743f08",
   "metadata": {},
   "outputs": [
    {
     "data": {
      "text/html": [
       "<div>\n",
       "<style scoped>\n",
       "    .dataframe tbody tr th:only-of-type {\n",
       "        vertical-align: middle;\n",
       "    }\n",
       "\n",
       "    .dataframe tbody tr th {\n",
       "        vertical-align: top;\n",
       "    }\n",
       "\n",
       "    .dataframe thead th {\n",
       "        text-align: right;\n",
       "    }\n",
       "</style>\n",
       "<table border=\"1\" class=\"dataframe\">\n",
       "  <thead>\n",
       "    <tr style=\"text-align: right;\">\n",
       "      <th>region</th>\n",
       "      <th>Midwest</th>\n",
       "      <th>Northeast</th>\n",
       "      <th>South</th>\n",
       "      <th>West</th>\n",
       "    </tr>\n",
       "    <tr>\n",
       "      <th>age_group</th>\n",
       "      <th></th>\n",
       "      <th></th>\n",
       "      <th></th>\n",
       "      <th></th>\n",
       "    </tr>\n",
       "  </thead>\n",
       "  <tbody>\n",
       "    <tr>\n",
       "      <th>Adult</th>\n",
       "      <td>23499</td>\n",
       "      <td>17527</td>\n",
       "      <td>32911</td>\n",
       "      <td>25249</td>\n",
       "    </tr>\n",
       "    <tr>\n",
       "      <th>Senior</th>\n",
       "      <td>10169</td>\n",
       "      <td>7580</td>\n",
       "      <td>14433</td>\n",
       "      <td>11068</td>\n",
       "    </tr>\n",
       "    <tr>\n",
       "      <th>Young Adult</th>\n",
       "      <td>4709</td>\n",
       "      <td>3474</td>\n",
       "      <td>6850</td>\n",
       "      <td>5164</td>\n",
       "    </tr>\n",
       "  </tbody>\n",
       "</table>\n",
       "</div>"
      ],
      "text/plain": [
       "region       Midwest  Northeast  South   West\n",
       "age_group                                    \n",
       "Adult          23499      17527  32911  25249\n",
       "Senior         10169       7580  14433  11068\n",
       "Young Adult     4709       3474   6850   5164"
      ]
     },
     "execution_count": 131,
     "metadata": {},
     "output_type": "execute_result"
    }
   ],
   "source": [
    "age_region_pivot"
   ]
  },
  {
   "cell_type": "code",
   "execution_count": 133,
   "id": "4f1cd8b0-81f5-4b20-9104-7af3ccca33df",
   "metadata": {},
   "outputs": [
    {
     "data": {
      "image/png": "[encoded data removed]",
      "text/plain": [
       "<Figure size 640x480 with 1 Axes>"
      ]
     },
     "metadata": {},
     "output_type": "display_data"
    }
   ],
   "source": [
    "# visualize\n",
    "age_region_usercount = age_region_pivot.plot(\n",
    "    kind = 'barh',\n",
    "    ylabel = '',\n",
    "    title = 'Age Group & Region by User Count'\n",
    ")\n",
    "plt.savefig(os.path.join(project_path, '04 Analysis', 'Visualizations', '4.10_age_region_usercount.png'))"
   ]
  },
  {
   "cell_type": "code",
   "execution_count": 135,
   "id": "62c2e294-d6de-4c85-84cd-329b50478ff0",
   "metadata": {},
   "outputs": [],
   "source": [
    "# Income Group\n",
    "# group by region and income\n",
    "income_region = df_3.groupby(['income_group', 'region'])['user_id'].nunique().reset_index(name='user_count')"
   ]
  },
  {
   "cell_type": "code",
   "execution_count": 137,
   "id": "9271106f-dac4-4fb6-8f0c-92c56b42fd5a",
   "metadata": {},
   "outputs": [],
   "source": [
    "# pivot to visualize\n",
    "income_region_pivot = income_region.pivot(index='income_group', columns='region', values='user_count')"
   ]
  },
  {
   "cell_type": "code",
   "execution_count": 139,
   "id": "125b59d2-8b77-4c39-8cdc-91b57930f749",
   "metadata": {},
   "outputs": [
    {
     "data": {
      "image/png": "[encoded data removed]",
      "text/plain": [
       "<Figure size 640x480 with 1 Axes>"
      ]
     },
     "metadata": {},
     "output_type": "display_data"
    }
   ],
   "source": [
    "# visualize\n",
    "income_region_pivot.plot(\n",
    "    kind = 'barh',\n",
    "    ylabel = '',\n",
    "    title = 'Income Group & Region by User Count'\n",
    ")\n",
    "plt.savefig(os.path.join(project_path, '04 Analysis', 'Visualizations', '4.10_income_region_usercount.png'))"
   ]
  },
  {
   "cell_type": "code",
   "execution_count": 141,
   "id": "5b19ed36-8726-4766-8e53-45259a7a1989",
   "metadata": {},
   "outputs": [],
   "source": [
    "# Dependency Group\n",
    "# group by region and income\n",
    "dependancy_region = df_3.groupby(['dependant_group', 'region'])['user_id'].nunique().reset_index(name='user_count')"
   ]
  },
  {
   "cell_type": "code",
   "execution_count": 143,
   "id": "2de6f232-8527-4b09-9d5e-5a242d801735",
   "metadata": {},
   "outputs": [],
   "source": [
    "# pivot to visualize\n",
    "dependancy_region_pivot = dependancy_region.pivot(index='dependant_group', columns='region', values='user_count')"
   ]
  },
  {
   "cell_type": "code",
   "execution_count": 145,
   "id": "7d8c042d-7f0d-4f12-865f-e7b132d8b98a",
   "metadata": {},
   "outputs": [
    {
     "data": {
      "image/png": "[encoded data removed]",
      "text/plain": [
       "<Figure size 640x480 with 1 Axes>"
      ]
     },
     "metadata": {},
     "output_type": "display_data"
    }
   ],
   "source": [
    "# visualize\n",
    "dependancy_region_pivot.plot(\n",
    "    kind = 'barh',\n",
    "    stacked = True,\n",
    "    ylabel = '',\n",
    "    title = 'Dependancy Group & Region by User Count'\n",
    ")\n",
    "plt.savefig(os.path.join(project_path, '04 Analysis', 'Visualizations', '4.10_dependancy_region_usercount.png'))"
   ]
  },
  {
   "cell_type": "code",
   "execution_count": 147,
   "id": "0b67ef10-bef0-4df5-9d08-30a0ef396065",
   "metadata": {},
   "outputs": [],
   "source": [
    "# Department Group - Pet Owners\n",
    "# group by region and income\n",
    "pet_owner_region = df_3.groupby(['pet_owner', 'region'])['user_id'].nunique().reset_index(name='user_count')"
   ]
  },
  {
   "cell_type": "code",
   "execution_count": 149,
   "id": "ce695d8c-29e4-41a2-b9ee-e9577657a12c",
   "metadata": {},
   "outputs": [
    {
     "data": {
      "text/html": [
       "<div>\n",
       "<style scoped>\n",
       "    .dataframe tbody tr th:only-of-type {\n",
       "        vertical-align: middle;\n",
       "    }\n",
       "\n",
       "    .dataframe tbody tr th {\n",
       "        vertical-align: top;\n",
       "    }\n",
       "\n",
       "    .dataframe thead th {\n",
       "        text-align: right;\n",
       "    }\n",
       "</style>\n",
       "<table border=\"1\" class=\"dataframe\">\n",
       "  <thead>\n",
       "    <tr style=\"text-align: right;\">\n",
       "      <th></th>\n",
       "      <th>pet_owner</th>\n",
       "      <th>region</th>\n",
       "      <th>user_count</th>\n",
       "    </tr>\n",
       "  </thead>\n",
       "  <tbody>\n",
       "    <tr>\n",
       "      <th>0</th>\n",
       "      <td>N</td>\n",
       "      <td>Midwest</td>\n",
       "      <td>35264</td>\n",
       "    </tr>\n",
       "    <tr>\n",
       "      <th>1</th>\n",
       "      <td>N</td>\n",
       "      <td>Northeast</td>\n",
       "      <td>26282</td>\n",
       "    </tr>\n",
       "    <tr>\n",
       "      <th>2</th>\n",
       "      <td>N</td>\n",
       "      <td>South</td>\n",
       "      <td>49869</td>\n",
       "    </tr>\n",
       "    <tr>\n",
       "      <th>3</th>\n",
       "      <td>N</td>\n",
       "      <td>West</td>\n",
       "      <td>38043</td>\n",
       "    </tr>\n",
       "    <tr>\n",
       "      <th>4</th>\n",
       "      <td>Y</td>\n",
       "      <td>Midwest</td>\n",
       "      <td>3113</td>\n",
       "    </tr>\n",
       "    <tr>\n",
       "      <th>5</th>\n",
       "      <td>Y</td>\n",
       "      <td>Northeast</td>\n",
       "      <td>2299</td>\n",
       "    </tr>\n",
       "    <tr>\n",
       "      <th>6</th>\n",
       "      <td>Y</td>\n",
       "      <td>South</td>\n",
       "      <td>4325</td>\n",
       "    </tr>\n",
       "    <tr>\n",
       "      <th>7</th>\n",
       "      <td>Y</td>\n",
       "      <td>West</td>\n",
       "      <td>3438</td>\n",
       "    </tr>\n",
       "  </tbody>\n",
       "</table>\n",
       "</div>"
      ],
      "text/plain": [
       "  pet_owner     region  user_count\n",
       "0         N    Midwest       35264\n",
       "1         N  Northeast       26282\n",
       "2         N      South       49869\n",
       "3         N       West       38043\n",
       "4         Y    Midwest        3113\n",
       "5         Y  Northeast        2299\n",
       "6         Y      South        4325\n",
       "7         Y       West        3438"
      ]
     },
     "execution_count": 149,
     "metadata": {},
     "output_type": "execute_result"
    }
   ],
   "source": [
    "pet_owner_region"
   ]
  },
  {
   "cell_type": "code",
   "execution_count": 151,
   "id": "348cedf8-2fe2-463d-a4ce-4d2852b65027",
   "metadata": {},
   "outputs": [],
   "source": [
    "# pivot to visualize\n",
    "pet_owener_region_pivot = pet_owner_region.pivot(index='region', columns='pet_owner', values='user_count')"
   ]
  },
  {
   "cell_type": "code",
   "execution_count": 153,
   "id": "59311a54-8a6d-4f0e-90a9-61dfadd3d89e",
   "metadata": {},
   "outputs": [
    {
     "data": {
      "image/png": "[encoded data removed]",
      "text/plain": [
       "<Figure size 640x480 with 1 Axes>"
      ]
     },
     "metadata": {},
     "output_type": "display_data"
    }
   ],
   "source": [
    "# visualize\n",
    "pet_owner_region_user_count = pet_owener_region_pivot.plot(\n",
    "    kind = 'barh',\n",
    "    stacked = True,\n",
    "    ylabel = '',\n",
    "    title = 'Pet Owner & Region by User Count'\n",
    ")\n",
    "plt.savefig(os.path.join(project_path, '04 Analysis', 'Visualizations', '4.10_petowner_region_usercount.png'))"
   ]
  },
  {
   "cell_type": "code",
   "execution_count": 155,
   "id": "e924a5a7-a93a-4570-a888-7722c4dcad38",
   "metadata": {},
   "outputs": [],
   "source": [
    "# Single Adults Group\n",
    "# group by region and income\n",
    "single_adult_region = df_3.groupby(['single_adult', 'region'])['user_id'].nunique().reset_index(name='user_count')"
   ]
  },
  {
   "cell_type": "code",
   "execution_count": 157,
   "id": "dd699060-228d-455b-ad8b-c493bbceb8aa",
   "metadata": {},
   "outputs": [
    {
     "data": {
      "text/html": [
       "<div>\n",
       "<style scoped>\n",
       "    .dataframe tbody tr th:only-of-type {\n",
       "        vertical-align: middle;\n",
       "    }\n",
       "\n",
       "    .dataframe tbody tr th {\n",
       "        vertical-align: top;\n",
       "    }\n",
       "\n",
       "    .dataframe thead th {\n",
       "        text-align: right;\n",
       "    }\n",
       "</style>\n",
       "<table border=\"1\" class=\"dataframe\">\n",
       "  <thead>\n",
       "    <tr style=\"text-align: right;\">\n",
       "      <th></th>\n",
       "      <th>single_adult</th>\n",
       "      <th>region</th>\n",
       "      <th>user_count</th>\n",
       "    </tr>\n",
       "  </thead>\n",
       "  <tbody>\n",
       "    <tr>\n",
       "      <th>0</th>\n",
       "      <td>N</td>\n",
       "      <td>Midwest</td>\n",
       "      <td>32018</td>\n",
       "    </tr>\n",
       "    <tr>\n",
       "      <th>1</th>\n",
       "      <td>N</td>\n",
       "      <td>Northeast</td>\n",
       "      <td>23797</td>\n",
       "    </tr>\n",
       "    <tr>\n",
       "      <th>2</th>\n",
       "      <td>N</td>\n",
       "      <td>South</td>\n",
       "      <td>45262</td>\n",
       "    </tr>\n",
       "    <tr>\n",
       "      <th>3</th>\n",
       "      <td>N</td>\n",
       "      <td>West</td>\n",
       "      <td>34660</td>\n",
       "    </tr>\n",
       "    <tr>\n",
       "      <th>4</th>\n",
       "      <td>Y</td>\n",
       "      <td>Midwest</td>\n",
       "      <td>6359</td>\n",
       "    </tr>\n",
       "    <tr>\n",
       "      <th>5</th>\n",
       "      <td>Y</td>\n",
       "      <td>Northeast</td>\n",
       "      <td>4784</td>\n",
       "    </tr>\n",
       "    <tr>\n",
       "      <th>6</th>\n",
       "      <td>Y</td>\n",
       "      <td>South</td>\n",
       "      <td>8932</td>\n",
       "    </tr>\n",
       "    <tr>\n",
       "      <th>7</th>\n",
       "      <td>Y</td>\n",
       "      <td>West</td>\n",
       "      <td>6821</td>\n",
       "    </tr>\n",
       "  </tbody>\n",
       "</table>\n",
       "</div>"
      ],
      "text/plain": [
       "  single_adult     region  user_count\n",
       "0            N    Midwest       32018\n",
       "1            N  Northeast       23797\n",
       "2            N      South       45262\n",
       "3            N       West       34660\n",
       "4            Y    Midwest        6359\n",
       "5            Y  Northeast        4784\n",
       "6            Y      South        8932\n",
       "7            Y       West        6821"
      ]
     },
     "execution_count": 157,
     "metadata": {},
     "output_type": "execute_result"
    }
   ],
   "source": [
    "single_adult_region"
   ]
  },
  {
   "cell_type": "code",
   "execution_count": 159,
   "id": "82b31642-f3e3-4d48-b0e3-c160c516bf32",
   "metadata": {},
   "outputs": [],
   "source": [
    "# pivot to visualize\n",
    "single_adult_region_pivot = single_adult_region.pivot(index='region', columns='single_adult', values='user_count')"
   ]
  },
  {
   "cell_type": "code",
   "execution_count": 161,
   "id": "a81965bb-c2dd-46ad-b54a-676e36a4716c",
   "metadata": {},
   "outputs": [
    {
     "data": {
      "image/png": "[encoded data removed]",
      "text/plain": [
       "<Figure size 640x480 with 1 Axes>"
      ]
     },
     "metadata": {},
     "output_type": "display_data"
    }
   ],
   "source": [
    "# visualize\n",
    "single_adult_region_pivot.plot(\n",
    "    kind = 'barh',\n",
    "    stacked = True,\n",
    "    ylabel = '',\n",
    "    title = 'Single Adult & Region by User Count'\n",
    ")\n",
    "plt.savefig(os.path.join(project_path, '04 Analysis', 'Visualizations', '4.10_singleadult_region_usercount.png'))"
   ]
  },
  {
   "cell_type": "code",
   "execution_count": 163,
   "id": "507c823f-59b8-4f67-8194-a97fc417f1f7",
   "metadata": {},
   "outputs": [],
   "source": [
    "# Department Comparison\n",
    "# create df_4 for order and department level\n",
    "# aggregate df to customer level\n",
    "df_4 = df_excluded.groupby(['order_id', 'department_id', 'max_order', 'age_group', 'income_group', 'dependant_group', 'pet_owner', 'single_adult', 'region']).agg(\n",
    "    total_spent=('prices', 'sum')\n",
    ").reset_index()"
   ]
  },
  {
   "cell_type": "code",
   "execution_count": 165,
   "id": "44b0ce84-88ee-465e-beea-1b79914762dc",
   "metadata": {},
   "outputs": [],
   "source": [
    "df_dep.columns = ['department_id', 'department']"
   ]
  },
  {
   "cell_type": "code",
   "execution_count": 167,
   "id": "0a3e0416-5b7c-4545-8b57-07d029375fd1",
   "metadata": {},
   "outputs": [],
   "source": [
    "# merge df_4 with department name\n",
    "df_4 = pd.merge(df_4, df_dep, on = 'department_id')"
   ]
  },
  {
   "cell_type": "code",
   "execution_count": 169,
   "id": "fb4975fc-18c9-4bb4-a16b-5592a846d8f8",
   "metadata": {},
   "outputs": [],
   "source": [
    "# get top 3 departments\n",
    "top_3_departments = df_4.groupby(['department'])['order_id'].nunique().reset_index().sort_values(by = 'order_id', ascending = False)"
   ]
  },
  {
   "cell_type": "code",
   "execution_count": 171,
   "id": "a5ca4309-afde-44c8-b5b3-3a27bf9e9052",
   "metadata": {},
   "outputs": [],
   "source": [
    "# filter df_4 for top_3 departments only\n",
    "top_3_departments = top_3_departments.reset_index(drop = True).head(3)"
   ]
  },
  {
   "cell_type": "code",
   "execution_count": 173,
   "id": "cd113bd8-b37d-409f-b348-b978764680e3",
   "metadata": {},
   "outputs": [],
   "source": [
    "df_4 = df_4[df_4['department'].isin(top_3_departments['department'])]"
   ]
  },
  {
   "cell_type": "code",
   "execution_count": 175,
   "id": "de7258cf-c8a1-46cb-b0de-a526edbdab70",
   "metadata": {},
   "outputs": [
    {
     "data": {
      "text/html": [
       "<div>\n",
       "<style scoped>\n",
       "    .dataframe tbody tr th:only-of-type {\n",
       "        vertical-align: middle;\n",
       "    }\n",
       "\n",
       "    .dataframe tbody tr th {\n",
       "        vertical-align: top;\n",
       "    }\n",
       "\n",
       "    .dataframe thead th {\n",
       "        text-align: right;\n",
       "    }\n",
       "</style>\n",
       "<table border=\"1\" class=\"dataframe\">\n",
       "  <thead>\n",
       "    <tr style=\"text-align: right;\">\n",
       "      <th></th>\n",
       "      <th>department</th>\n",
       "      <th>age_group</th>\n",
       "      <th>order_count</th>\n",
       "    </tr>\n",
       "  </thead>\n",
       "  <tbody>\n",
       "    <tr>\n",
       "      <th>0</th>\n",
       "      <td>beverages</td>\n",
       "      <td>Adult</td>\n",
       "      <td>848054</td>\n",
       "    </tr>\n",
       "    <tr>\n",
       "      <th>1</th>\n",
       "      <td>beverages</td>\n",
       "      <td>Senior</td>\n",
       "      <td>370488</td>\n",
       "    </tr>\n",
       "    <tr>\n",
       "      <th>2</th>\n",
       "      <td>beverages</td>\n",
       "      <td>Young Adult</td>\n",
       "      <td>172964</td>\n",
       "    </tr>\n",
       "    <tr>\n",
       "      <th>3</th>\n",
       "      <td>dairy eggs</td>\n",
       "      <td>Adult</td>\n",
       "      <td>1271469</td>\n",
       "    </tr>\n",
       "    <tr>\n",
       "      <th>4</th>\n",
       "      <td>dairy eggs</td>\n",
       "      <td>Senior</td>\n",
       "      <td>552389</td>\n",
       "    </tr>\n",
       "  </tbody>\n",
       "</table>\n",
       "</div>"
      ],
      "text/plain": [
       "   department    age_group  order_count\n",
       "0   beverages        Adult       848054\n",
       "1   beverages       Senior       370488\n",
       "2   beverages  Young Adult       172964\n",
       "3  dairy eggs        Adult      1271469\n",
       "4  dairy eggs       Senior       552389"
      ]
     },
     "execution_count": 175,
     "metadata": {},
     "output_type": "execute_result"
    }
   ],
   "source": [
    "# Age Groups\n",
    "# group by department and age\n",
    "age_department = df_4.groupby(['department', 'age_group'])['order_id'].nunique().reset_index(name='order_count')\n",
    "age_department.head()"
   ]
  },
  {
   "cell_type": "code",
   "execution_count": 177,
   "id": "9b6b6ef9-5cbd-4076-9516-dd2e2f78befd",
   "metadata": {},
   "outputs": [],
   "source": [
    "# pivot to visualize\n",
    "age_department_pivot = age_department.pivot(index='department', columns='age_group', values='order_count')"
   ]
  },
  {
   "cell_type": "code",
   "execution_count": 179,
   "id": "816985b7-6568-45ff-ab1e-2febbfa4315f",
   "metadata": {},
   "outputs": [
    {
     "data": {
      "text/html": [
       "<div>\n",
       "<style scoped>\n",
       "    .dataframe tbody tr th:only-of-type {\n",
       "        vertical-align: middle;\n",
       "    }\n",
       "\n",
       "    .dataframe tbody tr th {\n",
       "        vertical-align: top;\n",
       "    }\n",
       "\n",
       "    .dataframe thead th {\n",
       "        text-align: right;\n",
       "    }\n",
       "</style>\n",
       "<table border=\"1\" class=\"dataframe\">\n",
       "  <thead>\n",
       "    <tr style=\"text-align: right;\">\n",
       "      <th>age_group</th>\n",
       "      <th>Adult</th>\n",
       "      <th>Senior</th>\n",
       "      <th>Young Adult</th>\n",
       "    </tr>\n",
       "    <tr>\n",
       "      <th>department</th>\n",
       "      <th></th>\n",
       "      <th></th>\n",
       "      <th></th>\n",
       "    </tr>\n",
       "  </thead>\n",
       "  <tbody>\n",
       "    <tr>\n",
       "      <th>beverages</th>\n",
       "      <td>848054</td>\n",
       "      <td>370488</td>\n",
       "      <td>172964</td>\n",
       "    </tr>\n",
       "    <tr>\n",
       "      <th>dairy eggs</th>\n",
       "      <td>1271469</td>\n",
       "      <td>552389</td>\n",
       "      <td>258719</td>\n",
       "    </tr>\n",
       "    <tr>\n",
       "      <th>produce</th>\n",
       "      <td>1404387</td>\n",
       "      <td>612013</td>\n",
       "      <td>287285</td>\n",
       "    </tr>\n",
       "  </tbody>\n",
       "</table>\n",
       "</div>"
      ],
      "text/plain": [
       "age_group     Adult  Senior  Young Adult\n",
       "department                              \n",
       "beverages    848054  370488       172964\n",
       "dairy eggs  1271469  552389       258719\n",
       "produce     1404387  612013       287285"
      ]
     },
     "execution_count": 179,
     "metadata": {},
     "output_type": "execute_result"
    }
   ],
   "source": [
    "age_department_pivot"
   ]
  },
  {
   "cell_type": "code",
   "execution_count": 181,
   "id": "e0dd6b7c-ea2a-4f76-909c-88e9bb3cfba1",
   "metadata": {},
   "outputs": [
    {
     "data": {
      "image/png": "[encoded data removed]",
      "text/plain": [
       "<Figure size 640x480 with 1 Axes>"
      ]
     },
     "metadata": {},
     "output_type": "display_data"
    }
   ],
   "source": [
    "# visualize\n",
    "age_department_pivot.plot(\n",
    "    kind = 'barh',\n",
    "    ylabel = '',\n",
    "    title = 'Top 3 Departments & Age Group by Order Count'\n",
    ")\n",
    "plt.savefig(os.path.join(project_path, '04 Analysis', 'Visualizations', '4.10_department_agegroup_usercount.png'))"
   ]
  },
  {
   "cell_type": "code",
   "execution_count": 183,
   "id": "8267e8e6-af05-4284-b770-29dc78e9328b",
   "metadata": {},
   "outputs": [],
   "source": [
    "# Income Groups\n",
    "# group by department and income group\n",
    "income_department = df_4.groupby(['department', 'income_group'])['order_id'].nunique().reset_index(name = 'order_count')"
   ]
  },
  {
   "cell_type": "code",
   "execution_count": 185,
   "id": "c5ac6954-203f-4ebb-a93b-f883ddd1d5dd",
   "metadata": {},
   "outputs": [
    {
     "data": {
      "text/html": [
       "<div>\n",
       "<style scoped>\n",
       "    .dataframe tbody tr th:only-of-type {\n",
       "        vertical-align: middle;\n",
       "    }\n",
       "\n",
       "    .dataframe tbody tr th {\n",
       "        vertical-align: top;\n",
       "    }\n",
       "\n",
       "    .dataframe thead th {\n",
       "        text-align: right;\n",
       "    }\n",
       "</style>\n",
       "<table border=\"1\" class=\"dataframe\">\n",
       "  <thead>\n",
       "    <tr style=\"text-align: right;\">\n",
       "      <th></th>\n",
       "      <th>department</th>\n",
       "      <th>income_group</th>\n",
       "      <th>order_count</th>\n",
       "    </tr>\n",
       "  </thead>\n",
       "  <tbody>\n",
       "    <tr>\n",
       "      <th>0</th>\n",
       "      <td>beverages</td>\n",
       "      <td>High</td>\n",
       "      <td>610742</td>\n",
       "    </tr>\n",
       "    <tr>\n",
       "      <th>1</th>\n",
       "      <td>beverages</td>\n",
       "      <td>Low</td>\n",
       "      <td>99074</td>\n",
       "    </tr>\n",
       "    <tr>\n",
       "      <th>2</th>\n",
       "      <td>beverages</td>\n",
       "      <td>Middle</td>\n",
       "      <td>681690</td>\n",
       "    </tr>\n",
       "    <tr>\n",
       "      <th>3</th>\n",
       "      <td>dairy eggs</td>\n",
       "      <td>High</td>\n",
       "      <td>952496</td>\n",
       "    </tr>\n",
       "    <tr>\n",
       "      <th>4</th>\n",
       "      <td>dairy eggs</td>\n",
       "      <td>Low</td>\n",
       "      <td>111022</td>\n",
       "    </tr>\n",
       "  </tbody>\n",
       "</table>\n",
       "</div>"
      ],
      "text/plain": [
       "   department income_group  order_count\n",
       "0   beverages         High       610742\n",
       "1   beverages          Low        99074\n",
       "2   beverages       Middle       681690\n",
       "3  dairy eggs         High       952496\n",
       "4  dairy eggs          Low       111022"
      ]
     },
     "execution_count": 185,
     "metadata": {},
     "output_type": "execute_result"
    }
   ],
   "source": [
    "income_department.head()"
   ]
  },
  {
   "cell_type": "code",
   "execution_count": 187,
   "id": "e3be8811-541a-4d83-8eb2-2c2fb1446feb",
   "metadata": {},
   "outputs": [],
   "source": [
    "# pivot to visualize\n",
    "income_department_pivot = income_department.pivot(index='department', columns='income_group', values='order_count')"
   ]
  },
  {
   "cell_type": "code",
   "execution_count": 189,
   "id": "afa3a798-9df0-47e9-80b3-b48727e5525e",
   "metadata": {},
   "outputs": [
    {
     "data": {
      "text/html": [
       "<div>\n",
       "<style scoped>\n",
       "    .dataframe tbody tr th:only-of-type {\n",
       "        vertical-align: middle;\n",
       "    }\n",
       "\n",
       "    .dataframe tbody tr th {\n",
       "        vertical-align: top;\n",
       "    }\n",
       "\n",
       "    .dataframe thead th {\n",
       "        text-align: right;\n",
       "    }\n",
       "</style>\n",
       "<table border=\"1\" class=\"dataframe\">\n",
       "  <thead>\n",
       "    <tr style=\"text-align: right;\">\n",
       "      <th>age_group</th>\n",
       "      <th>Adult</th>\n",
       "      <th>Senior</th>\n",
       "      <th>Young Adult</th>\n",
       "    </tr>\n",
       "    <tr>\n",
       "      <th>department</th>\n",
       "      <th></th>\n",
       "      <th></th>\n",
       "      <th></th>\n",
       "    </tr>\n",
       "  </thead>\n",
       "  <tbody>\n",
       "    <tr>\n",
       "      <th>beverages</th>\n",
       "      <td>848054</td>\n",
       "      <td>370488</td>\n",
       "      <td>172964</td>\n",
       "    </tr>\n",
       "    <tr>\n",
       "      <th>dairy eggs</th>\n",
       "      <td>1271469</td>\n",
       "      <td>552389</td>\n",
       "      <td>258719</td>\n",
       "    </tr>\n",
       "    <tr>\n",
       "      <th>produce</th>\n",
       "      <td>1404387</td>\n",
       "      <td>612013</td>\n",
       "      <td>287285</td>\n",
       "    </tr>\n",
       "  </tbody>\n",
       "</table>\n",
       "</div>"
      ],
      "text/plain": [
       "age_group     Adult  Senior  Young Adult\n",
       "department                              \n",
       "beverages    848054  370488       172964\n",
       "dairy eggs  1271469  552389       258719\n",
       "produce     1404387  612013       287285"
      ]
     },
     "execution_count": 189,
     "metadata": {},
     "output_type": "execute_result"
    }
   ],
   "source": [
    "age_department_pivot"
   ]
  },
  {
   "cell_type": "code",
   "execution_count": 191,
   "id": "a5a421a4-ab59-4a91-ae09-b035bf7c0604",
   "metadata": {},
   "outputs": [
    {
     "data": {
      "image/png": "[encoded data removed]",
      "text/plain": [
       "<Figure size 640x480 with 1 Axes>"
      ]
     },
     "metadata": {},
     "output_type": "display_data"
    }
   ],
   "source": [
    "# visualize\n",
    "income_department_pivot.plot(\n",
    "    kind = 'barh',\n",
    "    ylabel = '',\n",
    "    title = 'Top 3 Departments & Income Group by Order Count'\n",
    ")\n",
    "plt.savefig(os.path.join(project_path, '04 Analysis', 'Visualizations', '4.10_department_incomegroup_usercount.png'))"
   ]
  },
  {
   "cell_type": "markdown",
   "id": "52c08cf7-c0b2-4c25-968c-c2c5f08db7cb",
   "metadata": {},
   "source": [
    "# The sales team needs to know what the busiest days of the week and hours of the day are in order to schedule ads at times when there are fewer orders"
   ]
  },
  {
   "cell_type": "code",
   "execution_count": 196,
   "id": "dd3cc405-44f4-4d90-ba35-164991229390",
   "metadata": {},
   "outputs": [],
   "source": [
    "order_dow_frequency = df_excluded.groupby(['orders_day_of_week'])['order_id'].nunique().reset_index()"
   ]
  },
  {
   "cell_type": "code",
   "execution_count": 198,
   "id": "2017c035-7293-480b-bc56-6e6c40ed2d8d",
   "metadata": {},
   "outputs": [
    {
     "data": {
      "text/html": [
       "<div>\n",
       "<style scoped>\n",
       "    .dataframe tbody tr th:only-of-type {\n",
       "        vertical-align: middle;\n",
       "    }\n",
       "\n",
       "    .dataframe tbody tr th {\n",
       "        vertical-align: top;\n",
       "    }\n",
       "\n",
       "    .dataframe thead th {\n",
       "        text-align: right;\n",
       "    }\n",
       "</style>\n",
       "<table border=\"1\" class=\"dataframe\">\n",
       "  <thead>\n",
       "    <tr style=\"text-align: right;\">\n",
       "      <th></th>\n",
       "      <th>orders_day_of_week</th>\n",
       "      <th>order_id</th>\n",
       "    </tr>\n",
       "  </thead>\n",
       "  <tbody>\n",
       "    <tr>\n",
       "      <th>0</th>\n",
       "      <td>0</td>\n",
       "      <td>529249</td>\n",
       "    </tr>\n",
       "    <tr>\n",
       "      <th>1</th>\n",
       "      <td>1</td>\n",
       "      <td>531282</td>\n",
       "    </tr>\n",
       "    <tr>\n",
       "      <th>2</th>\n",
       "      <td>2</td>\n",
       "      <td>421556</td>\n",
       "    </tr>\n",
       "    <tr>\n",
       "      <th>3</th>\n",
       "      <td>3</td>\n",
       "      <td>393465</td>\n",
       "    </tr>\n",
       "    <tr>\n",
       "      <th>4</th>\n",
       "      <td>4</td>\n",
       "      <td>383552</td>\n",
       "    </tr>\n",
       "    <tr>\n",
       "      <th>5</th>\n",
       "      <td>5</td>\n",
       "      <td>407491</td>\n",
       "    </tr>\n",
       "    <tr>\n",
       "      <th>6</th>\n",
       "      <td>6</td>\n",
       "      <td>397950</td>\n",
       "    </tr>\n",
       "  </tbody>\n",
       "</table>\n",
       "</div>"
      ],
      "text/plain": [
       "   orders_day_of_week  order_id\n",
       "0                   0    529249\n",
       "1                   1    531282\n",
       "2                   2    421556\n",
       "3                   3    393465\n",
       "4                   4    383552\n",
       "5                   5    407491\n",
       "6                   6    397950"
      ]
     },
     "execution_count": 198,
     "metadata": {},
     "output_type": "execute_result"
    }
   ],
   "source": [
    "order_dow_frequency"
   ]
  },
  {
   "cell_type": "code",
   "execution_count": 200,
   "id": "627d9577-7d69-4e5a-ab81-a00316e25281",
   "metadata": {},
   "outputs": [],
   "source": [
    "dow_map = {\n",
    "    0: 'Sat',\n",
    "    1: 'Sun',\n",
    "    2: 'Mon',\n",
    "    3: 'Tue',\n",
    "    4: 'Wed',\n",
    "    5: 'Thr',\n",
    "    6: 'Fri'\n",
    "}"
   ]
  },
  {
   "cell_type": "code",
   "execution_count": 202,
   "id": "bb0d41d1-8fa8-4f1c-bb86-c0acb09d51ab",
   "metadata": {},
   "outputs": [],
   "source": [
    "order_dow_frequency['orders_day_of_week_name'] = order_dow_frequency['orders_day_of_week'].replace(dow_map)"
   ]
  },
  {
   "cell_type": "code",
   "execution_count": 204,
   "id": "d334a2f3-6c87-4ebb-9914-8777c46c59b8",
   "metadata": {},
   "outputs": [
    {
     "data": {
      "text/html": [
       "<div>\n",
       "<style scoped>\n",
       "    .dataframe tbody tr th:only-of-type {\n",
       "        vertical-align: middle;\n",
       "    }\n",
       "\n",
       "    .dataframe tbody tr th {\n",
       "        vertical-align: top;\n",
       "    }\n",
       "\n",
       "    .dataframe thead th {\n",
       "        text-align: right;\n",
       "    }\n",
       "</style>\n",
       "<table border=\"1\" class=\"dataframe\">\n",
       "  <thead>\n",
       "    <tr style=\"text-align: right;\">\n",
       "      <th></th>\n",
       "      <th>orders_day_of_week</th>\n",
       "      <th>order_id</th>\n",
       "      <th>orders_day_of_week_name</th>\n",
       "    </tr>\n",
       "  </thead>\n",
       "  <tbody>\n",
       "    <tr>\n",
       "      <th>0</th>\n",
       "      <td>0</td>\n",
       "      <td>529249</td>\n",
       "      <td>Sat</td>\n",
       "    </tr>\n",
       "    <tr>\n",
       "      <th>1</th>\n",
       "      <td>1</td>\n",
       "      <td>531282</td>\n",
       "      <td>Sun</td>\n",
       "    </tr>\n",
       "    <tr>\n",
       "      <th>2</th>\n",
       "      <td>2</td>\n",
       "      <td>421556</td>\n",
       "      <td>Mon</td>\n",
       "    </tr>\n",
       "    <tr>\n",
       "      <th>3</th>\n",
       "      <td>3</td>\n",
       "      <td>393465</td>\n",
       "      <td>Tue</td>\n",
       "    </tr>\n",
       "    <tr>\n",
       "      <th>4</th>\n",
       "      <td>4</td>\n",
       "      <td>383552</td>\n",
       "      <td>Wed</td>\n",
       "    </tr>\n",
       "    <tr>\n",
       "      <th>5</th>\n",
       "      <td>5</td>\n",
       "      <td>407491</td>\n",
       "      <td>Thr</td>\n",
       "    </tr>\n",
       "    <tr>\n",
       "      <th>6</th>\n",
       "      <td>6</td>\n",
       "      <td>397950</td>\n",
       "      <td>Fri</td>\n",
       "    </tr>\n",
       "  </tbody>\n",
       "</table>\n",
       "</div>"
      ],
      "text/plain": [
       "   orders_day_of_week  order_id orders_day_of_week_name\n",
       "0                   0    529249                     Sat\n",
       "1                   1    531282                     Sun\n",
       "2                   2    421556                     Mon\n",
       "3                   3    393465                     Tue\n",
       "4                   4    383552                     Wed\n",
       "5                   5    407491                     Thr\n",
       "6                   6    397950                     Fri"
      ]
     },
     "execution_count": 204,
     "metadata": {},
     "output_type": "execute_result"
    }
   ],
   "source": [
    "order_dow_frequency"
   ]
  },
  {
   "cell_type": "code",
   "execution_count": 206,
   "id": "986de7ad-e9a5-4a85-a605-7de03d9c3553",
   "metadata": {},
   "outputs": [],
   "source": [
    "order_dow_frequency_2 = order_dow_frequency[['orders_day_of_week_name','order_id']].set_index('orders_day_of_week_name')"
   ]
  },
  {
   "cell_type": "code",
   "execution_count": 208,
   "id": "fe699f80-553b-49c7-8587-abe200f91e41",
   "metadata": {},
   "outputs": [
    {
     "data": {
      "image/png": "[encoded data removed]",
      "text/plain": [
       "<Figure size 640x480 with 1 Axes>"
      ]
     },
     "metadata": {},
     "output_type": "display_data"
    }
   ],
   "source": [
    "order_dow_frequency_2.plot(\n",
    "    legend = False,\n",
    "    title = 'Order Count by Day of Week',\n",
    "    xlabel =''\n",
    ")\n",
    "plt.savefig(os.path.join(project_path, '04 Analysis', 'Visualizations', 'order_count_by_dow.png'))"
   ]
  },
  {
   "cell_type": "code",
   "execution_count": 212,
   "id": "46074064-8825-4646-b6c1-e627927ede67",
   "metadata": {},
   "outputs": [],
   "source": [
    "price_by_hod = df_excluded.groupby('order_hour_of_day').agg(sum_of_sales = ('prices','mean'))"
   ]
  },
  {
   "cell_type": "code",
   "execution_count": 214,
   "id": "626b5545-cf2f-4d03-9844-41dac36da85e",
   "metadata": {
    "scrolled": true
   },
   "outputs": [
    {
     "data": {
      "text/plain": [
       "<Axes: xlabel='order_hour_of_day'>"
      ]
     },
     "execution_count": 214,
     "metadata": {},
     "output_type": "execute_result"
    },
    {
     "data": {
      "image/png": "[encoded data removed]",
      "text/plain": [
       "<Figure size 640x480 with 1 Axes>"
      ]
     },
     "metadata": {},
     "output_type": "display_data"
    }
   ],
   "source": [
    "price_by_hod.plot()"
   ]
  },
  {
   "cell_type": "markdown",
   "id": "90d6527c-7013-4b70-95b3-25fa6ece30a4",
   "metadata": {},
   "source": [
    "# Instacart has a lot of products with different price tags. Marketing and sales wants to use simpler price range groupings to help direct their efforts"
   ]
  },
  {
   "cell_type": "code",
   "execution_count": 217,
   "id": "767a55e0-ebbc-423d-8a6e-56eb54901d57",
   "metadata": {},
   "outputs": [],
   "source": [
    "pd.set_option('display.max_columns', None)"
   ]
  },
  {
   "cell_type": "code",
   "execution_count": 219,
   "id": "6c2a213d-6d7e-4ddb-bf9f-1c0852cf4150",
   "metadata": {},
   "outputs": [
    {
     "data": {
      "text/html": [
       "<div>\n",
       "<style scoped>\n",
       "    .dataframe tbody tr th:only-of-type {\n",
       "        vertical-align: middle;\n",
       "    }\n",
       "\n",
       "    .dataframe tbody tr th {\n",
       "        vertical-align: top;\n",
       "    }\n",
       "\n",
       "    .dataframe thead th {\n",
       "        text-align: right;\n",
       "    }\n",
       "</style>\n",
       "<table border=\"1\" class=\"dataframe\">\n",
       "  <thead>\n",
       "    <tr style=\"text-align: right;\">\n",
       "      <th></th>\n",
       "      <th>product_id</th>\n",
       "      <th>product_name</th>\n",
       "      <th>aisle_id</th>\n",
       "      <th>department_id</th>\n",
       "      <th>prices</th>\n",
       "      <th>order_id</th>\n",
       "      <th>user_id</th>\n",
       "      <th>eval_set</th>\n",
       "      <th>order_number</th>\n",
       "      <th>orders_day_of_week</th>\n",
       "      <th>order_hour_of_day</th>\n",
       "      <th>days_since_prior_order</th>\n",
       "      <th>add_to_cart_order</th>\n",
       "      <th>reordered</th>\n",
       "      <th>_merge</th>\n",
       "      <th>price_range_loc</th>\n",
       "      <th>busiest_days</th>\n",
       "      <th>busiest_period_of_day</th>\n",
       "      <th>max_order</th>\n",
       "      <th>loyalty_flag</th>\n",
       "      <th>average_spend</th>\n",
       "      <th>average_spending</th>\n",
       "      <th>spending_flag</th>\n",
       "      <th>order_frequency</th>\n",
       "      <th>order_frequency_flag</th>\n",
       "      <th>First Name</th>\n",
       "      <th>Last Name</th>\n",
       "      <th>Gender</th>\n",
       "      <th>State</th>\n",
       "      <th>Age</th>\n",
       "      <th>Date Joined</th>\n",
       "      <th>Number of Dependents</th>\n",
       "      <th>Family Status</th>\n",
       "      <th>Income</th>\n",
       "      <th>Region</th>\n",
       "      <th>region</th>\n",
       "      <th>activity_flag</th>\n",
       "    </tr>\n",
       "  </thead>\n",
       "  <tbody>\n",
       "    <tr>\n",
       "      <th>0</th>\n",
       "      <td>1</td>\n",
       "      <td>Chocolate Sandwich Cookies</td>\n",
       "      <td>61</td>\n",
       "      <td>19</td>\n",
       "      <td>5.8</td>\n",
       "      <td>3139998</td>\n",
       "      <td>138</td>\n",
       "      <td>prior</td>\n",
       "      <td>28</td>\n",
       "      <td>6</td>\n",
       "      <td>11</td>\n",
       "      <td>3.0</td>\n",
       "      <td>5</td>\n",
       "      <td>0</td>\n",
       "      <td>both</td>\n",
       "      <td>Mid-range product</td>\n",
       "      <td>Regularly busy</td>\n",
       "      <td>Most orders</td>\n",
       "      <td>32</td>\n",
       "      <td>Regular customer</td>\n",
       "      <td>6.935811</td>\n",
       "      <td>6.935811</td>\n",
       "      <td>Low spender</td>\n",
       "      <td>8.0</td>\n",
       "      <td>Frequent customer</td>\n",
       "      <td>Charles</td>\n",
       "      <td>Cox</td>\n",
       "      <td>Male</td>\n",
       "      <td>Minnesota</td>\n",
       "      <td>81</td>\n",
       "      <td>8/1/2019</td>\n",
       "      <td>1</td>\n",
       "      <td>married</td>\n",
       "      <td>49620</td>\n",
       "      <td>Midwest</td>\n",
       "      <td>Midwest</td>\n",
       "      <td>high-activity customer</td>\n",
       "    </tr>\n",
       "  </tbody>\n",
       "</table>\n",
       "</div>"
      ],
      "text/plain": [
       "   product_id                product_name  aisle_id  department_id  prices  \\\n",
       "0           1  Chocolate Sandwich Cookies        61             19     5.8   \n",
       "\n",
       "   order_id user_id eval_set  order_number  orders_day_of_week  \\\n",
       "0   3139998     138    prior            28                   6   \n",
       "\n",
       "   order_hour_of_day  days_since_prior_order  add_to_cart_order  reordered  \\\n",
       "0                 11                     3.0                  5          0   \n",
       "\n",
       "  _merge    price_range_loc    busiest_days busiest_period_of_day  max_order  \\\n",
       "0   both  Mid-range product  Regularly busy           Most orders         32   \n",
       "\n",
       "       loyalty_flag  average_spend  average_spending spending_flag  \\\n",
       "0  Regular customer       6.935811          6.935811   Low spender   \n",
       "\n",
       "   order_frequency order_frequency_flag First Name Last Name Gender  \\\n",
       "0              8.0    Frequent customer    Charles       Cox   Male   \n",
       "\n",
       "       State  Age Date Joined  Number of Dependents Family Status  Income  \\\n",
       "0  Minnesota   81    8/1/2019                     1       married   49620   \n",
       "\n",
       "    Region   region           activity_flag  \n",
       "0  Midwest  Midwest  high-activity customer  "
      ]
     },
     "execution_count": 219,
     "metadata": {},
     "output_type": "execute_result"
    }
   ],
   "source": [
    "df.head(1)"
   ]
  },
  {
   "cell_type": "code",
   "execution_count": 223,
   "id": "e999c175-2bd2-4ee9-a87b-e2b96cc9f286",
   "metadata": {},
   "outputs": [],
   "source": [
    "price_range = df_excluded.groupby('price_range_loc')['product_id'].nunique()"
   ]
  },
  {
   "cell_type": "code",
   "execution_count": 225,
   "id": "f99e17b7-e7a8-4391-ab54-342568e055be",
   "metadata": {},
   "outputs": [
    {
     "data": {
      "image/png": "[encoded data removed]",
      "text/plain": [
       "<Figure size 640x480 with 1 Axes>"
      ]
     },
     "metadata": {},
     "output_type": "display_data"
    }
   ],
   "source": [
    "price_range.plot(\n",
    "    kind = 'barh',\n",
    "    title = 'Product Count by price range',\n",
    "    ylabel =''\n",
    ")\n",
    "plt.tight_layout() # adjustment to see y label\n",
    "plt.savefig(os.path.join(project_path, '04 Analysis', 'Visualizations', 'product_count_by_price_range.png'))"
   ]
  },
  {
   "cell_type": "markdown",
   "id": "1e4f1609-fb94-4845-808f-860cc8e723f9",
   "metadata": {},
   "source": [
    "# Are there certain types of products that are more popular than others The marketing and sales teams want to know which departments have the highest frequency of product orders"
   ]
  },
  {
   "cell_type": "code",
   "execution_count": 228,
   "id": "1df152d6-217e-4875-a3a9-68225f802f0d",
   "metadata": {},
   "outputs": [],
   "source": [
    "orders_by_department = df_excluded.groupby('department_id')['order_id'].nunique()"
   ]
  },
  {
   "cell_type": "code",
   "execution_count": 230,
   "id": "350cb484-d1a5-4537-aa6a-54b354f7450a",
   "metadata": {},
   "outputs": [],
   "source": [
    "orders_by_department_bar = pd.merge(orders_by_department, df_dep, on = 'department_id').sort_values(by = 'order_id', ascending = True)"
   ]
  },
  {
   "cell_type": "code",
   "execution_count": 232,
   "id": "11dafa75-9c1b-4901-9f26-b0d1ff22fbfb",
   "metadata": {},
   "outputs": [
    {
     "data": {
      "image/png": "[encoded data removed]",
      "text/plain": [
       "<Figure size 640x480 with 1 Axes>"
      ]
     },
     "metadata": {},
     "output_type": "display_data"
    }
   ],
   "source": [
    "plt.barh(orders_by_department_bar['department'], orders_by_department_bar['order_id'])\n",
    "plt.title('Order Count by Department')\n",
    "plt.savefig(os.path.join(project_path, '04 Analysis', 'Visualizations', 'order_count_by_department.png'))"
   ]
  },
  {
   "cell_type": "markdown",
   "id": "cf8248a7-dff9-406e-b073-2a48e7a03165",
   "metadata": {},
   "source": [
    "# What's the distribution among users in regards to their brand loyalty? (i.e, how often do they return to instacart?)"
   ]
  },
  {
   "cell_type": "code",
   "execution_count": 235,
   "id": "771506a1-5a83-4808-85b7-8afeb8c9f943",
   "metadata": {},
   "outputs": [],
   "source": [
    "users_by_loyalty = df_excluded.groupby('loyalty_flag')['user_id'].nunique()"
   ]
  },
  {
   "cell_type": "code",
   "execution_count": 237,
   "id": "f8283b35-1a12-4560-9ac3-1bbed1e38816",
   "metadata": {},
   "outputs": [
    {
     "data": {
      "image/png": "[encoded data removed]",
      "text/plain": [
       "<Figure size 640x480 with 1 Axes>"
      ]
     },
     "metadata": {},
     "output_type": "display_data"
    }
   ],
   "source": [
    "users_by_loyalty.plot(\n",
    "    kind = 'barh',\n",
    "    title = 'User count by Loyalty Flag',\n",
    "    ylabel = ''\n",
    ")\n",
    "plt.tight_layout() # adjustment to see y label\n",
    "plt.savefig(os.path.join(project_path, '04 Analysis', 'Visualizations', 'user_count_by_loyalty.png'))"
   ]
  },
  {
   "cell_type": "markdown",
   "id": "4568f717-c303-4e8c-9b29-c8c5fd4cedc1",
   "metadata": {},
   "source": [
    "# Are there differences in ordering habits based on customer's loyalty status?\n"
   ]
  },
  {
   "cell_type": "code",
   "execution_count": 240,
   "id": "0896b652-a552-4006-97a6-347ca9d6cccd",
   "metadata": {},
   "outputs": [],
   "source": [
    "order_frequency_by_loyalty = df_excluded.groupby('loyalty_flag').agg(median_order_frequency=('days_since_prior_order', 'median'))"
   ]
  },
  {
   "cell_type": "code",
   "execution_count": 242,
   "id": "7de7fb93-43e6-4fd8-ad36-d1776cc3a4d9",
   "metadata": {},
   "outputs": [
    {
     "data": {
      "text/plain": [
       "<Axes: title={'center': 'Average days between order by loyalty'}>"
      ]
     },
     "execution_count": 242,
     "metadata": {},
     "output_type": "execute_result"
    },
    {
     "data": {
      "image/png": "[encoded data removed]",
      "text/plain": [
       "<Figure size 640x480 with 1 Axes>"
      ]
     },
     "metadata": {},
     "output_type": "display_data"
    }
   ],
   "source": [
    "order_frequency_by_loyalty.plot(\n",
    "    kind = 'barh',\n",
    "    title = 'Average days between order by loyalty',\n",
    "    ylabel = ''\n",
    ")\n"
   ]
  },
  {
   "cell_type": "code",
   "execution_count": 244,
   "id": "62b926fb-75b6-4c07-a533-17931fed66b9",
   "metadata": {},
   "outputs": [
    {
     "data": {
      "text/html": [
       "<div>\n",
       "<style scoped>\n",
       "    .dataframe tbody tr th:only-of-type {\n",
       "        vertical-align: middle;\n",
       "    }\n",
       "\n",
       "    .dataframe tbody tr th {\n",
       "        vertical-align: top;\n",
       "    }\n",
       "\n",
       "    .dataframe thead th {\n",
       "        text-align: right;\n",
       "    }\n",
       "</style>\n",
       "<table border=\"1\" class=\"dataframe\">\n",
       "  <thead>\n",
       "    <tr style=\"text-align: right;\">\n",
       "      <th></th>\n",
       "      <th>median_order_frequency</th>\n",
       "    </tr>\n",
       "    <tr>\n",
       "      <th>loyalty_flag</th>\n",
       "      <th></th>\n",
       "    </tr>\n",
       "  </thead>\n",
       "  <tbody>\n",
       "    <tr>\n",
       "      <th>Loyal customer</th>\n",
       "      <td>5.0</td>\n",
       "    </tr>\n",
       "    <tr>\n",
       "      <th>Regular customer</th>\n",
       "      <td>9.0</td>\n",
       "    </tr>\n",
       "    <tr>\n",
       "      <th>New customer</th>\n",
       "      <td>16.0</td>\n",
       "    </tr>\n",
       "  </tbody>\n",
       "</table>\n",
       "</div>"
      ],
      "text/plain": [
       "                  median_order_frequency\n",
       "loyalty_flag                            \n",
       "Loyal customer                       5.0\n",
       "Regular customer                     9.0\n",
       "New customer                        16.0"
      ]
     },
     "execution_count": 244,
     "metadata": {},
     "output_type": "execute_result"
    }
   ],
   "source": [
    "order_frequency_by_loyalty.sort_values(by = 'median_order_frequency', ascending = True)"
   ]
  },
  {
   "cell_type": "markdown",
   "id": "c1b5dcac-39e2-417e-95a8-3ab3a9da2999",
   "metadata": {},
   "source": [
    "# Are there differences in ordering habits based on customer's region?"
   ]
  },
  {
   "cell_type": "code",
   "execution_count": 247,
   "id": "186ceb8a-2dd2-430c-b8ff-9b31f0a865a7",
   "metadata": {},
   "outputs": [],
   "source": [
    "region_order_frequency = df_excluded.groupby(['region', 'price_range_loc']).agg(\n",
    "    order_frequency=('days_since_prior_order', 'mean')\n",
    ").reset_index()"
   ]
  },
  {
   "cell_type": "code",
   "execution_count": 249,
   "id": "c4f33377-e8ae-4845-9bcd-e4c7c1b7bbde",
   "metadata": {},
   "outputs": [
    {
     "data": {
      "text/html": [
       "<div>\n",
       "<style scoped>\n",
       "    .dataframe tbody tr th:only-of-type {\n",
       "        vertical-align: middle;\n",
       "    }\n",
       "\n",
       "    .dataframe tbody tr th {\n",
       "        vertical-align: top;\n",
       "    }\n",
       "\n",
       "    .dataframe thead th {\n",
       "        text-align: right;\n",
       "    }\n",
       "</style>\n",
       "<table border=\"1\" class=\"dataframe\">\n",
       "  <thead>\n",
       "    <tr style=\"text-align: right;\">\n",
       "      <th></th>\n",
       "      <th>region</th>\n",
       "      <th>price_range_loc</th>\n",
       "      <th>order_frequency</th>\n",
       "    </tr>\n",
       "  </thead>\n",
       "  <tbody>\n",
       "    <tr>\n",
       "      <th>0</th>\n",
       "      <td>Midwest</td>\n",
       "      <td>High-range product</td>\n",
       "      <td>11.239839</td>\n",
       "    </tr>\n",
       "    <tr>\n",
       "      <th>1</th>\n",
       "      <td>Midwest</td>\n",
       "      <td>Low-range product</td>\n",
       "      <td>10.894117</td>\n",
       "    </tr>\n",
       "    <tr>\n",
       "      <th>2</th>\n",
       "      <td>Midwest</td>\n",
       "      <td>Mid-range product</td>\n",
       "      <td>10.885790</td>\n",
       "    </tr>\n",
       "    <tr>\n",
       "      <th>3</th>\n",
       "      <td>Northeast</td>\n",
       "      <td>High-range product</td>\n",
       "      <td>11.114497</td>\n",
       "    </tr>\n",
       "    <tr>\n",
       "      <th>4</th>\n",
       "      <td>Northeast</td>\n",
       "      <td>Low-range product</td>\n",
       "      <td>10.785713</td>\n",
       "    </tr>\n",
       "    <tr>\n",
       "      <th>5</th>\n",
       "      <td>Northeast</td>\n",
       "      <td>Mid-range product</td>\n",
       "      <td>10.762893</td>\n",
       "    </tr>\n",
       "    <tr>\n",
       "      <th>6</th>\n",
       "      <td>South</td>\n",
       "      <td>High-range product</td>\n",
       "      <td>11.147746</td>\n",
       "    </tr>\n",
       "    <tr>\n",
       "      <th>7</th>\n",
       "      <td>South</td>\n",
       "      <td>Low-range product</td>\n",
       "      <td>10.818481</td>\n",
       "    </tr>\n",
       "    <tr>\n",
       "      <th>8</th>\n",
       "      <td>South</td>\n",
       "      <td>Mid-range product</td>\n",
       "      <td>10.806144</td>\n",
       "    </tr>\n",
       "    <tr>\n",
       "      <th>9</th>\n",
       "      <td>West</td>\n",
       "      <td>High-range product</td>\n",
       "      <td>11.016448</td>\n",
       "    </tr>\n",
       "    <tr>\n",
       "      <th>10</th>\n",
       "      <td>West</td>\n",
       "      <td>Low-range product</td>\n",
       "      <td>10.759753</td>\n",
       "    </tr>\n",
       "    <tr>\n",
       "      <th>11</th>\n",
       "      <td>West</td>\n",
       "      <td>Mid-range product</td>\n",
       "      <td>10.746997</td>\n",
       "    </tr>\n",
       "  </tbody>\n",
       "</table>\n",
       "</div>"
      ],
      "text/plain": [
       "       region     price_range_loc  order_frequency\n",
       "0     Midwest  High-range product        11.239839\n",
       "1     Midwest   Low-range product        10.894117\n",
       "2     Midwest   Mid-range product        10.885790\n",
       "3   Northeast  High-range product        11.114497\n",
       "4   Northeast   Low-range product        10.785713\n",
       "5   Northeast   Mid-range product        10.762893\n",
       "6       South  High-range product        11.147746\n",
       "7       South   Low-range product        10.818481\n",
       "8       South   Mid-range product        10.806144\n",
       "9        West  High-range product        11.016448\n",
       "10       West   Low-range product        10.759753\n",
       "11       West   Mid-range product        10.746997"
      ]
     },
     "execution_count": 249,
     "metadata": {},
     "output_type": "execute_result"
    }
   ],
   "source": [
    "region_order_frequency"
   ]
  },
  {
   "cell_type": "code",
   "execution_count": 251,
   "id": "a4d3ef0e-1dce-4e7a-82ff-d2b3b04db371",
   "metadata": {},
   "outputs": [],
   "source": [
    "region_order_frequency = region_order_frequency.pivot(index = 'region', columns = 'price_range_loc', values = 'order_frequency')"
   ]
  },
  {
   "cell_type": "code",
   "execution_count": 253,
   "id": "ea9adf5e-4a56-4839-8f18-e7f56ae05166",
   "metadata": {},
   "outputs": [
    {
     "data": {
      "image/png": "[encoded data removed]",
      "text/plain": [
       "<Figure size 640x480 with 1 Axes>"
      ]
     },
     "metadata": {},
     "output_type": "display_data"
    }
   ],
   "source": [
    "region_order_frequency.plot(\n",
    "    kind = 'barh',\n",
    "    stacked = True,\n",
    "    title = 'order frequency by region and product type'\n",
    ")\n",
    "plt.savefig(os.path.join(project_path, '04 Analysis', 'Visualizations', 'region_order_frequency.png'))"
   ]
  },
  {
   "cell_type": "markdown",
   "id": "112dfc63-1f66-452a-a5fc-916b2293c5f8",
   "metadata": {},
   "source": [
    "# Is there a connection between age and family status in terms of ordering habits?"
   ]
  },
  {
   "cell_type": "code",
   "execution_count": 256,
   "id": "11934785-69b4-47b7-9748-09fb1171843b",
   "metadata": {},
   "outputs": [],
   "source": [
    "single_adults_order_frequency = df_excluded.groupby('single_adult').agg(order_frequency = ('days_since_prior_order', 'mean')).reset_index()"
   ]
  },
  {
   "cell_type": "code",
   "execution_count": 258,
   "id": "2c67b7bb-5b75-4ee7-a7fb-d61ec57d5ac1",
   "metadata": {},
   "outputs": [
    {
     "data": {
      "text/html": [
       "<div>\n",
       "<style scoped>\n",
       "    .dataframe tbody tr th:only-of-type {\n",
       "        vertical-align: middle;\n",
       "    }\n",
       "\n",
       "    .dataframe tbody tr th {\n",
       "        vertical-align: top;\n",
       "    }\n",
       "\n",
       "    .dataframe thead th {\n",
       "        text-align: right;\n",
       "    }\n",
       "</style>\n",
       "<table border=\"1\" class=\"dataframe\">\n",
       "  <thead>\n",
       "    <tr style=\"text-align: right;\">\n",
       "      <th></th>\n",
       "      <th>single_adult</th>\n",
       "      <th>order_frequency</th>\n",
       "    </tr>\n",
       "  </thead>\n",
       "  <tbody>\n",
       "    <tr>\n",
       "      <th>0</th>\n",
       "      <td>N</td>\n",
       "      <td>10.809850</td>\n",
       "    </tr>\n",
       "    <tr>\n",
       "      <th>1</th>\n",
       "      <td>Y</td>\n",
       "      <td>10.813173</td>\n",
       "    </tr>\n",
       "  </tbody>\n",
       "</table>\n",
       "</div>"
      ],
      "text/plain": [
       "  single_adult  order_frequency\n",
       "0            N        10.809850\n",
       "1            Y        10.813173"
      ]
     },
     "execution_count": 258,
     "metadata": {},
     "output_type": "execute_result"
    }
   ],
   "source": [
    "single_adults_order_frequency"
   ]
  },
  {
   "cell_type": "code",
   "execution_count": 260,
   "id": "e79f7969-0653-47b6-85a6-045708f4a108",
   "metadata": {},
   "outputs": [
    {
     "data": {
      "image/png": "[encoded data removed]",
      "text/plain": [
       "<Figure size 640x480 with 1 Axes>"
      ]
     },
     "metadata": {},
     "output_type": "display_data"
    }
   ],
   "source": [
    "single_adults_order_frequency.plot(\n",
    "    kind = 'barh',\n",
    "    title = 'order frequency of single adult vs others'\n",
    ")\n",
    "plt.savefig(os.path.join(project_path, '04 Analysis', 'Visualizations', 'single_adult_order_frequency.png'))"
   ]
  },
  {
   "cell_type": "markdown",
   "id": "00c7d188-7400-4f1b-97fa-25c24df325db",
   "metadata": {},
   "source": [
    "# What differences can you find in ordering habits of different customer profiles? Consider the price of orders, the frequency of orders, the products customers are ordering, and anything else you can think of"
   ]
  },
  {
   "cell_type": "code",
   "execution_count": 263,
   "id": "f1a7e913-17f1-4147-abac-c28f8a8ff835",
   "metadata": {},
   "outputs": [],
   "source": [
    "department_price_range = df_excluded.groupby(['department_id','price_range_loc'])['product_id'].nunique().reset_index()"
   ]
  },
  {
   "cell_type": "code",
   "execution_count": 265,
   "id": "a41f414c-635f-4316-b5ad-817edaecc21b",
   "metadata": {},
   "outputs": [],
   "source": [
    "department_price_low_range = department_price_range[department_price_range['price_range_loc'] == 'Low-range product'].sort_values(by = 'product_id')"
   ]
  },
  {
   "cell_type": "code",
   "execution_count": 267,
   "id": "8c7ecc9b-9680-4845-a06b-cec3075c8500",
   "metadata": {},
   "outputs": [],
   "source": [
    "department_price_low_range = department_price_low_range.head(5).merge(df_dep, on = 'department_id')"
   ]
  },
  {
   "cell_type": "code",
   "execution_count": 269,
   "id": "a91bef82-c9a8-4e97-9640-3f680f8985a8",
   "metadata": {},
   "outputs": [
    {
     "data": {
      "text/html": [
       "<div>\n",
       "<style scoped>\n",
       "    .dataframe tbody tr th:only-of-type {\n",
       "        vertical-align: middle;\n",
       "    }\n",
       "\n",
       "    .dataframe tbody tr th {\n",
       "        vertical-align: top;\n",
       "    }\n",
       "\n",
       "    .dataframe thead th {\n",
       "        text-align: right;\n",
       "    }\n",
       "</style>\n",
       "<table border=\"1\" class=\"dataframe\">\n",
       "  <thead>\n",
       "    <tr style=\"text-align: right;\">\n",
       "      <th></th>\n",
       "      <th>department_id</th>\n",
       "      <th>price_range_loc</th>\n",
       "      <th>product_id</th>\n",
       "      <th>department</th>\n",
       "    </tr>\n",
       "  </thead>\n",
       "  <tbody>\n",
       "    <tr>\n",
       "      <th>0</th>\n",
       "      <td>10</td>\n",
       "      <td>Low-range product</td>\n",
       "      <td>6</td>\n",
       "      <td>bulk</td>\n",
       "    </tr>\n",
       "    <tr>\n",
       "      <th>1</th>\n",
       "      <td>2</td>\n",
       "      <td>Low-range product</td>\n",
       "      <td>165</td>\n",
       "      <td>other</td>\n",
       "    </tr>\n",
       "    <tr>\n",
       "      <th>2</th>\n",
       "      <td>8</td>\n",
       "      <td>Low-range product</td>\n",
       "      <td>280</td>\n",
       "      <td>pets</td>\n",
       "    </tr>\n",
       "    <tr>\n",
       "      <th>3</th>\n",
       "      <td>5</td>\n",
       "      <td>Low-range product</td>\n",
       "      <td>294</td>\n",
       "      <td>alcohol</td>\n",
       "    </tr>\n",
       "    <tr>\n",
       "      <th>4</th>\n",
       "      <td>18</td>\n",
       "      <td>Low-range product</td>\n",
       "      <td>299</td>\n",
       "      <td>babies</td>\n",
       "    </tr>\n",
       "  </tbody>\n",
       "</table>\n",
       "</div>"
      ],
      "text/plain": [
       "   department_id    price_range_loc  product_id department\n",
       "0             10  Low-range product           6       bulk\n",
       "1              2  Low-range product         165      other\n",
       "2              8  Low-range product         280       pets\n",
       "3              5  Low-range product         294    alcohol\n",
       "4             18  Low-range product         299     babies"
      ]
     },
     "execution_count": 269,
     "metadata": {},
     "output_type": "execute_result"
    }
   ],
   "source": [
    "department_price_low_range"
   ]
  },
  {
   "cell_type": "code",
   "execution_count": 271,
   "id": "77ccbfce-7c95-4852-9533-b5d69ae5158e",
   "metadata": {},
   "outputs": [],
   "source": [
    "department_price_low_range = department_price_low_range[['department', 'product_id']].sort_values(by = 'product_id', ascending = False).reset_index(drop = True)"
   ]
  },
  {
   "cell_type": "code",
   "execution_count": 273,
   "id": "10fc3b4e-8e01-4ea1-a956-2059e680adfc",
   "metadata": {},
   "outputs": [
    {
     "data": {
      "text/html": [
       "<div>\n",
       "<style scoped>\n",
       "    .dataframe tbody tr th:only-of-type {\n",
       "        vertical-align: middle;\n",
       "    }\n",
       "\n",
       "    .dataframe tbody tr th {\n",
       "        vertical-align: top;\n",
       "    }\n",
       "\n",
       "    .dataframe thead th {\n",
       "        text-align: right;\n",
       "    }\n",
       "</style>\n",
       "<table border=\"1\" class=\"dataframe\">\n",
       "  <thead>\n",
       "    <tr style=\"text-align: right;\">\n",
       "      <th></th>\n",
       "      <th>department</th>\n",
       "      <th>product_id</th>\n",
       "    </tr>\n",
       "  </thead>\n",
       "  <tbody>\n",
       "    <tr>\n",
       "      <th>0</th>\n",
       "      <td>babies</td>\n",
       "      <td>299</td>\n",
       "    </tr>\n",
       "    <tr>\n",
       "      <th>1</th>\n",
       "      <td>alcohol</td>\n",
       "      <td>294</td>\n",
       "    </tr>\n",
       "    <tr>\n",
       "      <th>2</th>\n",
       "      <td>pets</td>\n",
       "      <td>280</td>\n",
       "    </tr>\n",
       "    <tr>\n",
       "      <th>3</th>\n",
       "      <td>other</td>\n",
       "      <td>165</td>\n",
       "    </tr>\n",
       "    <tr>\n",
       "      <th>4</th>\n",
       "      <td>bulk</td>\n",
       "      <td>6</td>\n",
       "    </tr>\n",
       "  </tbody>\n",
       "</table>\n",
       "</div>"
      ],
      "text/plain": [
       "  department  product_id\n",
       "0     babies         299\n",
       "1    alcohol         294\n",
       "2       pets         280\n",
       "3      other         165\n",
       "4       bulk           6"
      ]
     },
     "execution_count": 273,
     "metadata": {},
     "output_type": "execute_result"
    }
   ],
   "source": [
    "department_price_low_range"
   ]
  },
  {
   "cell_type": "code",
   "execution_count": 275,
   "id": "1fe03fcf-b77f-4dbc-a69c-5d803336cf0f",
   "metadata": {},
   "outputs": [],
   "source": [
    "department_price_low_range.set_index('department', inplace = True)"
   ]
  },
  {
   "cell_type": "code",
   "execution_count": 277,
   "id": "d7a39737-b680-4f4c-ad44-bb5dc9dc4da8",
   "metadata": {},
   "outputs": [
    {
     "data": {
      "text/html": [
       "<div>\n",
       "<style scoped>\n",
       "    .dataframe tbody tr th:only-of-type {\n",
       "        vertical-align: middle;\n",
       "    }\n",
       "\n",
       "    .dataframe tbody tr th {\n",
       "        vertical-align: top;\n",
       "    }\n",
       "\n",
       "    .dataframe thead th {\n",
       "        text-align: right;\n",
       "    }\n",
       "</style>\n",
       "<table border=\"1\" class=\"dataframe\">\n",
       "  <thead>\n",
       "    <tr style=\"text-align: right;\">\n",
       "      <th></th>\n",
       "      <th>product_id</th>\n",
       "    </tr>\n",
       "    <tr>\n",
       "      <th>department</th>\n",
       "      <th></th>\n",
       "    </tr>\n",
       "  </thead>\n",
       "  <tbody>\n",
       "    <tr>\n",
       "      <th>babies</th>\n",
       "      <td>299</td>\n",
       "    </tr>\n",
       "    <tr>\n",
       "      <th>alcohol</th>\n",
       "      <td>294</td>\n",
       "    </tr>\n",
       "    <tr>\n",
       "      <th>pets</th>\n",
       "      <td>280</td>\n",
       "    </tr>\n",
       "    <tr>\n",
       "      <th>other</th>\n",
       "      <td>165</td>\n",
       "    </tr>\n",
       "    <tr>\n",
       "      <th>bulk</th>\n",
       "      <td>6</td>\n",
       "    </tr>\n",
       "  </tbody>\n",
       "</table>\n",
       "</div>"
      ],
      "text/plain": [
       "            product_id\n",
       "department            \n",
       "babies             299\n",
       "alcohol            294\n",
       "pets               280\n",
       "other              165\n",
       "bulk                 6"
      ]
     },
     "execution_count": 277,
     "metadata": {},
     "output_type": "execute_result"
    }
   ],
   "source": [
    "department_price_low_range"
   ]
  },
  {
   "cell_type": "code",
   "execution_count": 279,
   "id": "5b19c32c-d15a-4212-95a8-1b2fdfa26896",
   "metadata": {},
   "outputs": [
    {
     "data": {
      "image/png": "[encoded data removed]",
      "text/plain": [
       "<Figure size 640x480 with 1 Axes>"
      ]
     },
     "metadata": {},
     "output_type": "display_data"
    }
   ],
   "source": [
    "department_price_low_range.plot(\n",
    "    kind = 'barh',\n",
    "    title = 'Bottom 5 departments with low-range products',\n",
    "    ylabel = '',\n",
    "    legend = False\n",
    ")\n",
    "plt.savefig(os.path.join(project_path, '04 Analysis', 'Visualizations', 'bottom_5_departments.png'))"
   ]
  },
  {
   "cell_type": "code",
   "execution_count": 299,
   "id": "7c1a78e1-78e0-4627-9faa-17ac5d1af2f3",
   "metadata": {},
   "outputs": [],
   "source": [
    "department_high_income = df_excluded[df_excluded['income_group'] == 'High']"
   ]
  },
  {
   "cell_type": "code",
   "execution_count": 300,
   "id": "128b73ac-d2b7-4b70-856c-9ef80fddbb2e",
   "metadata": {},
   "outputs": [],
   "source": [
    "department_high_income_2 = department_high_income.groupby(['department_id']).agg(total_sales = ('prices', 'sum')).reset_index()"
   ]
  },
  {
   "cell_type": "code",
   "execution_count": 301,
   "id": "b4a4b56a-4cfc-4140-a292-f8930405a8c9",
   "metadata": {},
   "outputs": [
    {
     "data": {
      "text/html": [
       "<div>\n",
       "<style scoped>\n",
       "    .dataframe tbody tr th:only-of-type {\n",
       "        vertical-align: middle;\n",
       "    }\n",
       "\n",
       "    .dataframe tbody tr th {\n",
       "        vertical-align: top;\n",
       "    }\n",
       "\n",
       "    .dataframe thead th {\n",
       "        text-align: right;\n",
       "    }\n",
       "</style>\n",
       "<table border=\"1\" class=\"dataframe\">\n",
       "  <thead>\n",
       "    <tr style=\"text-align: right;\">\n",
       "      <th></th>\n",
       "      <th>department_id</th>\n",
       "      <th>total_sales</th>\n",
       "    </tr>\n",
       "  </thead>\n",
       "  <tbody>\n",
       "    <tr>\n",
       "      <th>0</th>\n",
       "      <td>1</td>\n",
       "      <td>7741811.6</td>\n",
       "    </tr>\n",
       "    <tr>\n",
       "      <th>1</th>\n",
       "      <td>2</td>\n",
       "      <td>114385.2</td>\n",
       "    </tr>\n",
       "    <tr>\n",
       "      <th>2</th>\n",
       "      <td>3</td>\n",
       "      <td>4211578.5</td>\n",
       "    </tr>\n",
       "    <tr>\n",
       "      <th>3</th>\n",
       "      <td>4</td>\n",
       "      <td>34236339.3</td>\n",
       "    </tr>\n",
       "    <tr>\n",
       "      <th>4</th>\n",
       "      <td>5</td>\n",
       "      <td>576680.4</td>\n",
       "    </tr>\n",
       "    <tr>\n",
       "      <th>5</th>\n",
       "      <td>6</td>\n",
       "      <td>930768.3</td>\n",
       "    </tr>\n",
       "    <tr>\n",
       "      <th>6</th>\n",
       "      <td>7</td>\n",
       "      <td>8883930.6</td>\n",
       "    </tr>\n",
       "    <tr>\n",
       "      <th>7</th>\n",
       "      <td>8</td>\n",
       "      <td>358799.1</td>\n",
       "    </tr>\n",
       "    <tr>\n",
       "      <th>8</th>\n",
       "      <td>9</td>\n",
       "      <td>2910908.4</td>\n",
       "    </tr>\n",
       "    <tr>\n",
       "      <th>9</th>\n",
       "      <td>10</td>\n",
       "      <td>121503.2</td>\n",
       "    </tr>\n",
       "    <tr>\n",
       "      <th>10</th>\n",
       "      <td>11</td>\n",
       "      <td>1564495.7</td>\n",
       "    </tr>\n",
       "    <tr>\n",
       "      <th>11</th>\n",
       "      <td>12</td>\n",
       "      <td>5499676.7</td>\n",
       "    </tr>\n",
       "    <tr>\n",
       "      <th>12</th>\n",
       "      <td>13</td>\n",
       "      <td>6784442.7</td>\n",
       "    </tr>\n",
       "    <tr>\n",
       "      <th>13</th>\n",
       "      <td>14</td>\n",
       "      <td>2476672.4</td>\n",
       "    </tr>\n",
       "    <tr>\n",
       "      <th>14</th>\n",
       "      <td>15</td>\n",
       "      <td>3682783.5</td>\n",
       "    </tr>\n",
       "    <tr>\n",
       "      <th>15</th>\n",
       "      <td>16</td>\n",
       "      <td>141362865.5</td>\n",
       "    </tr>\n",
       "    <tr>\n",
       "      <th>16</th>\n",
       "      <td>17</td>\n",
       "      <td>2389873.4</td>\n",
       "    </tr>\n",
       "    <tr>\n",
       "      <th>17</th>\n",
       "      <td>18</td>\n",
       "      <td>1510448.4</td>\n",
       "    </tr>\n",
       "    <tr>\n",
       "      <th>18</th>\n",
       "      <td>19</td>\n",
       "      <td>4753409.8</td>\n",
       "    </tr>\n",
       "    <tr>\n",
       "      <th>19</th>\n",
       "      <td>20</td>\n",
       "      <td>3664100.1</td>\n",
       "    </tr>\n",
       "    <tr>\n",
       "      <th>20</th>\n",
       "      <td>21</td>\n",
       "      <td>257469.9</td>\n",
       "    </tr>\n",
       "  </tbody>\n",
       "</table>\n",
       "</div>"
      ],
      "text/plain": [
       "    department_id  total_sales\n",
       "0               1    7741811.6\n",
       "1               2     114385.2\n",
       "2               3    4211578.5\n",
       "3               4   34236339.3\n",
       "4               5     576680.4\n",
       "5               6     930768.3\n",
       "6               7    8883930.6\n",
       "7               8     358799.1\n",
       "8               9    2910908.4\n",
       "9              10     121503.2\n",
       "10             11    1564495.7\n",
       "11             12    5499676.7\n",
       "12             13    6784442.7\n",
       "13             14    2476672.4\n",
       "14             15    3682783.5\n",
       "15             16  141362865.5\n",
       "16             17    2389873.4\n",
       "17             18    1510448.4\n",
       "18             19    4753409.8\n",
       "19             20    3664100.1\n",
       "20             21     257469.9"
      ]
     },
     "execution_count": 301,
     "metadata": {},
     "output_type": "execute_result"
    }
   ],
   "source": [
    "department_high_income_2"
   ]
  },
  {
   "cell_type": "code",
   "execution_count": 305,
   "id": "d9a78ba7-a848-4758-9231-1e8fbb2648f4",
   "metadata": {},
   "outputs": [],
   "source": [
    "department_high_income_3 = department_high_income_2.merge(df_dep, on = 'department_id')"
   ]
  },
  {
   "cell_type": "code",
   "execution_count": 307,
   "id": "beeff10e-7771-415a-830a-1df8de1772b6",
   "metadata": {},
   "outputs": [],
   "source": [
    "department_high_income_3 = department_high_income_3.drop(columns = 'department_id')"
   ]
  },
  {
   "cell_type": "code",
   "execution_count": 309,
   "id": "d4db7b7f-d7a6-4201-965d-7b141509aad7",
   "metadata": {},
   "outputs": [],
   "source": [
    "department_high_income_4 = department_high_income_3.sort_values(by = 'total_sales').head(5)"
   ]
  },
  {
   "cell_type": "code",
   "execution_count": 315,
   "id": "50ee9011-b1fe-49df-8796-57854edb1568",
   "metadata": {},
   "outputs": [
    {
     "data": {
      "image/png": "[encoded data removed]",
      "text/plain": [
       "<Figure size 640x480 with 1 Axes>"
      ]
     },
     "metadata": {},
     "output_type": "display_data"
    }
   ],
   "source": [
    "department_high_income_4.plot(\n",
    "    kind = 'barh',\n",
    "    title = 'High income users least purchased departments',\n",
    "    ylabel = '',\n",
    "    legend = False\n",
    ")\n",
    "plt.savefig(os.path.join(project_path, '04 Analysis', 'Visualizations', 'high_income_departments.png'))"
   ]
  },
  {
   "cell_type": "code",
   "execution_count": null,
   "id": "0b86e19a-0e5c-480f-86dd-e7f0f7a10cae",
   "metadata": {},
   "outputs": [],
   "source": [
    "df.loc[df['state'].isin(region_northeast), 'region'] = 'Northeast'"
   ]
  },
  {
   "cell_type": "code",
   "execution_count": 22,
   "id": "93d12983-ece5-4d04-aa85-1e60466de3f9",
   "metadata": {},
   "outputs": [],
   "source": [
    "# Create a flag for customers with less than 5 orders\n",
    "ords_prods_cust.loc[ords_prods_cust['max_order'] < 5, 'activity_flag'] = 'low-activity customer'\n",
    "ords_prods_cust.loc[ords_prods_cust['max_order'] >= 5, 'activity_flag'] = 'high-activity customer'"
   ]
  },
  {
   "cell_type": "code",
   "execution_count": 23,
   "id": "2ad658e0-d104-4156-aa40-e8416db9314c",
   "metadata": {},
   "outputs": [
    {
     "data": {
      "text/plain": [
       "activity_flag\n",
       "high-activity customer    30992664\n",
       "low-activity customer      1441548\n",
       "Name: count, dtype: int64"
      ]
     },
     "execution_count": 23,
     "metadata": {},
     "output_type": "execute_result"
    }
   ],
   "source": [
    "ords_prods_cust['activity_flag'].value_counts(dropna = False)"
   ]
  },
  {
   "cell_type": "code",
   "execution_count": 24,
   "id": "901b09b1-f38a-4c40-8a19-a07aa84f8202",
   "metadata": {},
   "outputs": [],
   "source": [
    "# Exclude low-activity customers from the dataframe\n",
    "df_excluded = ords_prods_cust[ords_prods_cust['activity_flag'] != 'low-activity customer']"
   ]
  },
  {
   "cell_type": "code",
   "execution_count": 25,
   "id": "3b0ec18e-a2f6-4b53-a89c-c408ce763db4",
   "metadata": {},
   "outputs": [],
   "source": [
    "# Export the new dataframe\n",
    "df_excluded.to_pickle(os.path.join(path, '02 Data','Prepared Data', 'low_activity_excluded.pkl'))"
   ]
  }
 ],
 "metadata": {
  "kernelspec": {
   "display_name": "Python [conda env:base] *",
   "language": "python",
   "name": "conda-base-py"
  },
  "language_info": {
   "codemirror_mode": {
    "name": "ipython",
    "version": 3
   },
   "file_extension": ".py",
   "mimetype": "text/x-python",
   "name": "python",
   "nbconvert_exporter": "python",
   "pygments_lexer": "ipython3",
   "version": "3.12.7"
  }
 },
 "nbformat": 4,
 "nbformat_minor": 5
}
