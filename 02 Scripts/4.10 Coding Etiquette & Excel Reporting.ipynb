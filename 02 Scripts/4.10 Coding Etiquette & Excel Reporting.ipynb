{
 "cells": [
  {
   "cell_type": "code",
   "execution_count": 5,
   "id": "2ee25b4e-2e46-4ac0-8518-e47ef796179a",
   "metadata": {},
   "outputs": [],
   "source": [
    "# Import Libraries\n",
    "import pandas as pd\n",
    "import numpy as np\n",
    "import os\n",
    "import matplotlib.pyplot as plt\n",
    "import seaborn as sns\n",
    "import scipy"
   ]
  },
  {
   "cell_type": "code",
   "execution_count": 7,
   "id": "05fcdbb2-ef8b-4d13-bde5-4b9ab7bdf6dc",
   "metadata": {},
   "outputs": [],
   "source": [
    "# Import data and turn project path into a string\n",
    "path = r'/Users/jerrysiphavong/Desktop/12-2024 Instacart Basket Analysis'"
   ]
  },
  {
   "cell_type": "code",
   "execution_count": 9,
   "id": "cf738bc0-f818-413f-ab8a-34f7a05efbae",
   "metadata": {},
   "outputs": [],
   "source": [
    "# Import order & customer data\n",
    "df_merge = pd.read_pickle(os.path.join(path, '02 Data', 'Prepared Data', 'customer_ords_merge.pkl'))"
   ]
  },
  {
   "cell_type": "markdown",
   "id": "27dcecde-8871-4505-be47-6519f37fbf0d",
   "metadata": {},
   "source": [
    "# Create a \"Region\" column based on the \"State\" column from your customers data set"
   ]
  },
  {
   "cell_type": "code",
   "execution_count": 20,
   "id": "ec9c130f-b936-4db9-9f22-8917cf3b2ece",
   "metadata": {},
   "outputs": [],
   "source": [
    "crosstab = pd.crosstab(df_merge['days_since_prior_order'], df_merge['order_number'], dropna = False)"
   ]
  },
  {
   "cell_type": "code",
   "execution_count": 26,
   "id": "7f402dff-bec1-47fc-8b9f-18c38b0a5555",
   "metadata": {},
   "outputs": [],
   "source": [
    "crosstab.to_clipboard()"
   ]
  }
 ],
 "metadata": {
  "kernelspec": {
   "display_name": "Python [conda env:base] *",
   "language": "python",
   "name": "conda-base-py"
  },
  "language_info": {
   "codemirror_mode": {
    "name": "ipython",
    "version": 3
   },
   "file_extension": ".py",
   "mimetype": "text/x-python",
   "name": "python",
   "nbconvert_exporter": "python",
   "pygments_lexer": "ipython3",
   "version": "3.12.7"
  }
 },
 "nbformat": 4,
 "nbformat_minor": 5
}
