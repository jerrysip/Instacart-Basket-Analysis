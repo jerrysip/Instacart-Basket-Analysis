{
 "cells": [
  {
   "cell_type": "code",
   "execution_count": 5,
   "id": "79237274-f404-4ebb-8c61-df9465fd27b5",
   "metadata": {},
   "outputs": [],
   "source": [
    "#Importing Libraries\n",
    "import pandas as pd\n",
    "import numpy as np\n",
    "import os"
   ]
  },
  {
   "cell_type": "markdown",
   "id": "455bd115-6483-465f-bbbc-e6d32426dc3b",
   "metadata": {},
   "source": [
    "#code"
   ]
  },
  {
   "cell_type": "code",
   "execution_count": 7,
   "id": "f561a34d-8141-4c9d-98ec-3ef623f3568d",
   "metadata": {},
   "outputs": [],
   "source": [
    "# Working with Python data types"
   ]
  },
  {
   "cell_type": "markdown",
   "id": "978552ea-e5cc-44ba-8dce-28680895d790",
   "metadata": {},
   "source": [
    "#3 different ways of reaching a result 100 by adding or subtracting numeric variables"
   ]
  },
  {
   "cell_type": "code",
   "execution_count": 94,
   "id": "fa88dd8e-3609-4c25-838b-14065c9049b2",
   "metadata": {},
   "outputs": [],
   "source": [
    "a = 10 + 90"
   ]
  },
  {
   "cell_type": "code",
   "execution_count": 96,
   "id": "1b752225-de15-4252-b749-5e2ea6795256",
   "metadata": {},
   "outputs": [
    {
     "name": "stdout",
     "output_type": "stream",
     "text": [
      "100\n"
     ]
    }
   ],
   "source": [
    "print(a)"
   ]
  },
  {
   "cell_type": "code",
   "execution_count": 99,
   "id": "5b3bb159-7629-49b6-8eb0-0a3ebe0f910b",
   "metadata": {},
   "outputs": [
    {
     "data": {
      "text/plain": [
       "100"
      ]
     },
     "execution_count": 99,
     "metadata": {},
     "output_type": "execute_result"
    }
   ],
   "source": [
    "50 * 2"
   ]
  },
  {
   "cell_type": "code",
   "execution_count": 101,
   "id": "d7212f6a-eca8-461d-8c3f-6579bf7e170b",
   "metadata": {},
   "outputs": [],
   "source": [
    "b = 20"
   ]
  },
  {
   "cell_type": "code",
   "execution_count": 103,
   "id": "bde458f7-ec53-46b3-b1b5-41d99e777499",
   "metadata": {},
   "outputs": [],
   "source": [
    "c = 80"
   ]
  },
  {
   "cell_type": "code",
   "execution_count": 105,
   "id": "998bb3bb-57c5-4c35-b2ab-c39c73d3b6d4",
   "metadata": {},
   "outputs": [
    {
     "data": {
      "text/plain": [
       "100"
      ]
     },
     "execution_count": 105,
     "metadata": {},
     "output_type": "execute_result"
    }
   ],
   "source": [
    "b + c"
   ]
  },
  {
   "cell_type": "markdown",
   "id": "2a2ac493-55cc-42db-a7b6-145d5ed63216",
   "metadata": {},
   "source": [
    "#Code 2 floating-piont variables and divide them by each other"
   ]
  },
  {
   "cell_type": "code",
   "execution_count": 110,
   "id": "15142a1d-1b87-47dd-b872-d06b0576261f",
   "metadata": {},
   "outputs": [],
   "source": [
    "a = 10.5"
   ]
  },
  {
   "cell_type": "code",
   "execution_count": 112,
   "id": "35b927ac-1916-4710-ac09-995ac2e7a5f1",
   "metadata": {},
   "outputs": [],
   "source": [
    "b = 3.4"
   ]
  },
  {
   "cell_type": "code",
   "execution_count": 114,
   "id": "b43d5602-4fa9-43b0-8173-b295f69d9a64",
   "metadata": {},
   "outputs": [
    {
     "data": {
      "text/plain": [
       "0.30000000000000027"
      ]
     },
     "execution_count": 114,
     "metadata": {},
     "output_type": "execute_result"
    }
   ],
   "source": [
    "a % b"
   ]
  },
  {
   "cell_type": "markdown",
   "id": "6126533d-2a2c-40de-90fb-9ffc54381fcb",
   "metadata": {},
   "source": [
    "#Construct a short word made of separate strings"
   ]
  },
  {
   "cell_type": "code",
   "execution_count": 119,
   "id": "5027ecf1-daa7-4a08-9a48-d208cb77a68a",
   "metadata": {},
   "outputs": [],
   "source": [
    "a = 'light'"
   ]
  },
  {
   "cell_type": "code",
   "execution_count": 121,
   "id": "feb544b6-e297-47ee-9864-0744ea279efc",
   "metadata": {},
   "outputs": [],
   "source": [
    "b = 'ning'"
   ]
  },
  {
   "cell_type": "code",
   "execution_count": 123,
   "id": "a819e391-d0cc-4300-9a17-29fed8449663",
   "metadata": {},
   "outputs": [
    {
     "data": {
      "text/plain": [
       "'lightning'"
      ]
     },
     "execution_count": 123,
     "metadata": {},
     "output_type": "execute_result"
    }
   ],
   "source": [
    "a + b"
   ]
  },
  {
   "cell_type": "markdown",
   "id": "dd9c7654-175b-406e-b761-44894ce4278e",
   "metadata": {},
   "source": [
    "#Construct 2 short sentences made of separate strings"
   ]
  },
  {
   "cell_type": "code",
   "execution_count": 126,
   "id": "dcde370e-b6fb-4e68-a22f-a6bf0c111b6b",
   "metadata": {},
   "outputs": [],
   "source": [
    "c = 'I want it that way'"
   ]
  },
  {
   "cell_type": "code",
   "execution_count": 132,
   "id": "6855ecbe-08a3-4db7-be18-7c7aa2a157b9",
   "metadata": {},
   "outputs": [],
   "source": [
    "d = '. Tell me why?'"
   ]
  },
  {
   "cell_type": "code",
   "execution_count": 136,
   "id": "868b45da-312f-41a9-9420-127147c62bbf",
   "metadata": {},
   "outputs": [
    {
     "data": {
      "text/plain": [
       "'I want it that way. Tell me why?'"
      ]
     },
     "execution_count": 136,
     "metadata": {},
     "output_type": "execute_result"
    }
   ],
   "source": [
    "c + d"
   ]
  },
  {
   "cell_type": "code",
   "execution_count": 138,
   "id": "76c2b946-3d4e-4036-aa18-b827e54db6d7",
   "metadata": {},
   "outputs": [],
   "source": [
    "z = 'Clown'"
   ]
  },
  {
   "cell_type": "code",
   "execution_count": 140,
   "id": "591909cb-081b-48cc-9523-9a328ea39746",
   "metadata": {},
   "outputs": [
    {
     "data": {
      "text/plain": [
       "'ClownClownClownClownClownClownClownClownClownClownClownClownClownClownClownClownClownClownClownClownClownClownClownClownClownClownClownClownClownClownClownClownClownClownClownClownClownClownClownClownClownClownClownClownClownClownClownClownClownClownClownClownClownClownClownClownClownClownClownClownClownClownClownClownClownClownClownClownClownClownClownClownClownClownClownClownClownClownClownClownClownClownClownClownClownClownClownClownClownClownClownClownClownClownClownClownClownClownClownClown'"
      ]
     },
     "execution_count": 140,
     "metadata": {},
     "output_type": "execute_result"
    }
   ],
   "source": [
    "z * 100"
   ]
  }
 ],
 "metadata": {
  "kernelspec": {
   "display_name": "Python [conda env:base] *",
   "language": "python",
   "name": "conda-base-py"
  },
  "language_info": {
   "codemirror_mode": {
    "name": "ipython",
    "version": 3
   },
   "file_extension": ".py",
   "mimetype": "text/x-python",
   "name": "python",
   "nbconvert_exporter": "python",
   "pygments_lexer": "ipython3",
   "version": "3.12.7"
  }
 },
 "nbformat": 4,
 "nbformat_minor": 5
}
